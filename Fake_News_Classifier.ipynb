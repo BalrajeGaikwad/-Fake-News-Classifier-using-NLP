{
  "nbformat": 4,
  "nbformat_minor": 0,
  "metadata": {
    "colab": {
      "provenance": []
    },
    "kernelspec": {
      "name": "python3",
      "display_name": "Python 3"
    },
    "language_info": {
      "name": "python"
    }
  },
  "cells": [
    {
      "cell_type": "code",
      "execution_count": null,
      "metadata": {
        "id": "Iw8ZOip53HcV"
      },
      "outputs": [],
      "source": [
        "import pandas as pd"
      ]
    },
    {
      "cell_type": "code",
      "source": [
        "data = pd.read_csv('/content/train.csv', encoding='latin1', on_bad_lines='skip', engine='python')\n"
      ],
      "metadata": {
        "id": "b4nuDlXl3a28"
      },
      "execution_count": null,
      "outputs": []
    },
    {
      "cell_type": "code",
      "source": [
        "data"
      ],
      "metadata": {
        "colab": {
          "base_uri": "https://localhost:8080/",
          "height": 563
        },
        "id": "s5q9KXfZ3orL",
        "outputId": "fbc4ab40-c4b2-44b9-db1f-2dbf45d01302"
      },
      "execution_count": null,
      "outputs": [
        {
          "output_type": "execute_result",
          "data": {
            "text/plain": [
              "          id                                              title  \\\n",
              "0          0  House Dem Aide: We Didnât Even See Comeyâs...   \n",
              "1          1  FLYNN: Hillary Clinton, Big Woman on Campus - ...   \n",
              "2          2                  Why the Truth Might Get You Fired   \n",
              "3          3  15 Civilians Killed In Single US Airstrike Hav...   \n",
              "4          4  Iranian woman jailed for fictional unpublished...   \n",
              "...      ...                                                ...   \n",
              "40360  20795  Rapper T.I.: Trump a âPoster Child For White...   \n",
              "40361  20796  N.F.L. Playoffs: Schedule, Matchups and Odds -...   \n",
              "40362  20797  Macyâs Is Said to Receive Takeover Approach ...   \n",
              "40363  20798  NATO, Russia To Hold Parallel Exercises In Bal...   \n",
              "40364  20799                          What Keeps the F-35 Alive   \n",
              "\n",
              "                                          author  \\\n",
              "0                                  Darrell Lucus   \n",
              "1                                Daniel J. Flynn   \n",
              "2                             Consortiumnews.com   \n",
              "3                                Jessica Purkiss   \n",
              "4                                 Howard Portnoy   \n",
              "...                                          ...   \n",
              "40360                              Jerome Hudson   \n",
              "40361                           Benjamin Hoffman   \n",
              "40362  Michael J. de la Merced and Rachel Abrams   \n",
              "40363                                Alex Ansary   \n",
              "40364                              David Swanson   \n",
              "\n",
              "                                                    text label  \n",
              "0      House Dem Aide: We Didnât Even See Comeyâs...     1  \n",
              "1      Ever get the feeling your life circles the rou...     0  \n",
              "2      Why the Truth Might Get You Fired October 29, ...     1  \n",
              "3      Videos 15 Civilians Killed In Single US Airstr...     1  \n",
              "4      Print \\nAn Iranian woman has been sentenced to...     1  \n",
              "...                                                  ...   ...  \n",
              "40360  Rapper T. I. unloaded on black celebrities who...     0  \n",
              "40361  When the Green Bay Packers lost to the Washing...     0  \n",
              "40362  The Macyâs of today grew from the union of s...     0  \n",
              "40363  NATO, Russia To Hold Parallel Exercises In Bal...     1  \n",
              "40364    David Swanson is an author, activist, journa...     1  \n",
              "\n",
              "[40365 rows x 5 columns]"
            ],
            "text/html": [
              "\n",
              "  <div id=\"df-65f0770b-3710-4c3b-844c-5ad3a309b8f2\" class=\"colab-df-container\">\n",
              "    <div>\n",
              "<style scoped>\n",
              "    .dataframe tbody tr th:only-of-type {\n",
              "        vertical-align: middle;\n",
              "    }\n",
              "\n",
              "    .dataframe tbody tr th {\n",
              "        vertical-align: top;\n",
              "    }\n",
              "\n",
              "    .dataframe thead th {\n",
              "        text-align: right;\n",
              "    }\n",
              "</style>\n",
              "<table border=\"1\" class=\"dataframe\">\n",
              "  <thead>\n",
              "    <tr style=\"text-align: right;\">\n",
              "      <th></th>\n",
              "      <th>id</th>\n",
              "      <th>title</th>\n",
              "      <th>author</th>\n",
              "      <th>text</th>\n",
              "      <th>label</th>\n",
              "    </tr>\n",
              "  </thead>\n",
              "  <tbody>\n",
              "    <tr>\n",
              "      <th>0</th>\n",
              "      <td>0</td>\n",
              "      <td>House Dem Aide: We Didnât Even See Comeyâs...</td>\n",
              "      <td>Darrell Lucus</td>\n",
              "      <td>House Dem Aide: We Didnât Even See Comeyâs...</td>\n",
              "      <td>1</td>\n",
              "    </tr>\n",
              "    <tr>\n",
              "      <th>1</th>\n",
              "      <td>1</td>\n",
              "      <td>FLYNN: Hillary Clinton, Big Woman on Campus - ...</td>\n",
              "      <td>Daniel J. Flynn</td>\n",
              "      <td>Ever get the feeling your life circles the rou...</td>\n",
              "      <td>0</td>\n",
              "    </tr>\n",
              "    <tr>\n",
              "      <th>2</th>\n",
              "      <td>2</td>\n",
              "      <td>Why the Truth Might Get You Fired</td>\n",
              "      <td>Consortiumnews.com</td>\n",
              "      <td>Why the Truth Might Get You Fired October 29, ...</td>\n",
              "      <td>1</td>\n",
              "    </tr>\n",
              "    <tr>\n",
              "      <th>3</th>\n",
              "      <td>3</td>\n",
              "      <td>15 Civilians Killed In Single US Airstrike Hav...</td>\n",
              "      <td>Jessica Purkiss</td>\n",
              "      <td>Videos 15 Civilians Killed In Single US Airstr...</td>\n",
              "      <td>1</td>\n",
              "    </tr>\n",
              "    <tr>\n",
              "      <th>4</th>\n",
              "      <td>4</td>\n",
              "      <td>Iranian woman jailed for fictional unpublished...</td>\n",
              "      <td>Howard Portnoy</td>\n",
              "      <td>Print \\nAn Iranian woman has been sentenced to...</td>\n",
              "      <td>1</td>\n",
              "    </tr>\n",
              "    <tr>\n",
              "      <th>...</th>\n",
              "      <td>...</td>\n",
              "      <td>...</td>\n",
              "      <td>...</td>\n",
              "      <td>...</td>\n",
              "      <td>...</td>\n",
              "    </tr>\n",
              "    <tr>\n",
              "      <th>40360</th>\n",
              "      <td>20795</td>\n",
              "      <td>Rapper T.I.: Trump a âPoster Child For White...</td>\n",
              "      <td>Jerome Hudson</td>\n",
              "      <td>Rapper T. I. unloaded on black celebrities who...</td>\n",
              "      <td>0</td>\n",
              "    </tr>\n",
              "    <tr>\n",
              "      <th>40361</th>\n",
              "      <td>20796</td>\n",
              "      <td>N.F.L. Playoffs: Schedule, Matchups and Odds -...</td>\n",
              "      <td>Benjamin Hoffman</td>\n",
              "      <td>When the Green Bay Packers lost to the Washing...</td>\n",
              "      <td>0</td>\n",
              "    </tr>\n",
              "    <tr>\n",
              "      <th>40362</th>\n",
              "      <td>20797</td>\n",
              "      <td>Macyâs Is Said to Receive Takeover Approach ...</td>\n",
              "      <td>Michael J. de la Merced and Rachel Abrams</td>\n",
              "      <td>The Macyâs of today grew from the union of s...</td>\n",
              "      <td>0</td>\n",
              "    </tr>\n",
              "    <tr>\n",
              "      <th>40363</th>\n",
              "      <td>20798</td>\n",
              "      <td>NATO, Russia To Hold Parallel Exercises In Bal...</td>\n",
              "      <td>Alex Ansary</td>\n",
              "      <td>NATO, Russia To Hold Parallel Exercises In Bal...</td>\n",
              "      <td>1</td>\n",
              "    </tr>\n",
              "    <tr>\n",
              "      <th>40364</th>\n",
              "      <td>20799</td>\n",
              "      <td>What Keeps the F-35 Alive</td>\n",
              "      <td>David Swanson</td>\n",
              "      <td>David Swanson is an author, activist, journa...</td>\n",
              "      <td>1</td>\n",
              "    </tr>\n",
              "  </tbody>\n",
              "</table>\n",
              "<p>40365 rows × 5 columns</p>\n",
              "</div>\n",
              "    <div class=\"colab-df-buttons\">\n",
              "\n",
              "  <div class=\"colab-df-container\">\n",
              "    <button class=\"colab-df-convert\" onclick=\"convertToInteractive('df-65f0770b-3710-4c3b-844c-5ad3a309b8f2')\"\n",
              "            title=\"Convert this dataframe to an interactive table.\"\n",
              "            style=\"display:none;\">\n",
              "\n",
              "  <svg xmlns=\"http://www.w3.org/2000/svg\" height=\"24px\" viewBox=\"0 -960 960 960\">\n",
              "    <path d=\"M120-120v-720h720v720H120Zm60-500h600v-160H180v160Zm220 220h160v-160H400v160Zm0 220h160v-160H400v160ZM180-400h160v-160H180v160Zm440 0h160v-160H620v160ZM180-180h160v-160H180v160Zm440 0h160v-160H620v160Z\"/>\n",
              "  </svg>\n",
              "    </button>\n",
              "\n",
              "  <style>\n",
              "    .colab-df-container {\n",
              "      display:flex;\n",
              "      gap: 12px;\n",
              "    }\n",
              "\n",
              "    .colab-df-convert {\n",
              "      background-color: #E8F0FE;\n",
              "      border: none;\n",
              "      border-radius: 50%;\n",
              "      cursor: pointer;\n",
              "      display: none;\n",
              "      fill: #1967D2;\n",
              "      height: 32px;\n",
              "      padding: 0 0 0 0;\n",
              "      width: 32px;\n",
              "    }\n",
              "\n",
              "    .colab-df-convert:hover {\n",
              "      background-color: #E2EBFA;\n",
              "      box-shadow: 0px 1px 2px rgba(60, 64, 67, 0.3), 0px 1px 3px 1px rgba(60, 64, 67, 0.15);\n",
              "      fill: #174EA6;\n",
              "    }\n",
              "\n",
              "    .colab-df-buttons div {\n",
              "      margin-bottom: 4px;\n",
              "    }\n",
              "\n",
              "    [theme=dark] .colab-df-convert {\n",
              "      background-color: #3B4455;\n",
              "      fill: #D2E3FC;\n",
              "    }\n",
              "\n",
              "    [theme=dark] .colab-df-convert:hover {\n",
              "      background-color: #434B5C;\n",
              "      box-shadow: 0px 1px 3px 1px rgba(0, 0, 0, 0.15);\n",
              "      filter: drop-shadow(0px 1px 2px rgba(0, 0, 0, 0.3));\n",
              "      fill: #FFFFFF;\n",
              "    }\n",
              "  </style>\n",
              "\n",
              "    <script>\n",
              "      const buttonEl =\n",
              "        document.querySelector('#df-65f0770b-3710-4c3b-844c-5ad3a309b8f2 button.colab-df-convert');\n",
              "      buttonEl.style.display =\n",
              "        google.colab.kernel.accessAllowed ? 'block' : 'none';\n",
              "\n",
              "      async function convertToInteractive(key) {\n",
              "        const element = document.querySelector('#df-65f0770b-3710-4c3b-844c-5ad3a309b8f2');\n",
              "        const dataTable =\n",
              "          await google.colab.kernel.invokeFunction('convertToInteractive',\n",
              "                                                    [key], {});\n",
              "        if (!dataTable) return;\n",
              "\n",
              "        const docLinkHtml = 'Like what you see? Visit the ' +\n",
              "          '<a target=\"_blank\" href=https://colab.research.google.com/notebooks/data_table.ipynb>data table notebook</a>'\n",
              "          + ' to learn more about interactive tables.';\n",
              "        element.innerHTML = '';\n",
              "        dataTable['output_type'] = 'display_data';\n",
              "        await google.colab.output.renderOutput(dataTable, element);\n",
              "        const docLink = document.createElement('div');\n",
              "        docLink.innerHTML = docLinkHtml;\n",
              "        element.appendChild(docLink);\n",
              "      }\n",
              "    </script>\n",
              "  </div>\n",
              "\n",
              "\n",
              "<div id=\"df-9d6736cf-2418-4a50-aca2-9a1275340a67\">\n",
              "  <button class=\"colab-df-quickchart\" onclick=\"quickchart('df-9d6736cf-2418-4a50-aca2-9a1275340a67')\"\n",
              "            title=\"Suggest charts\"\n",
              "            style=\"display:none;\">\n",
              "\n",
              "<svg xmlns=\"http://www.w3.org/2000/svg\" height=\"24px\"viewBox=\"0 0 24 24\"\n",
              "     width=\"24px\">\n",
              "    <g>\n",
              "        <path d=\"M19 3H5c-1.1 0-2 .9-2 2v14c0 1.1.9 2 2 2h14c1.1 0 2-.9 2-2V5c0-1.1-.9-2-2-2zM9 17H7v-7h2v7zm4 0h-2V7h2v10zm4 0h-2v-4h2v4z\"/>\n",
              "    </g>\n",
              "</svg>\n",
              "  </button>\n",
              "\n",
              "<style>\n",
              "  .colab-df-quickchart {\n",
              "      --bg-color: #E8F0FE;\n",
              "      --fill-color: #1967D2;\n",
              "      --hover-bg-color: #E2EBFA;\n",
              "      --hover-fill-color: #174EA6;\n",
              "      --disabled-fill-color: #AAA;\n",
              "      --disabled-bg-color: #DDD;\n",
              "  }\n",
              "\n",
              "  [theme=dark] .colab-df-quickchart {\n",
              "      --bg-color: #3B4455;\n",
              "      --fill-color: #D2E3FC;\n",
              "      --hover-bg-color: #434B5C;\n",
              "      --hover-fill-color: #FFFFFF;\n",
              "      --disabled-bg-color: #3B4455;\n",
              "      --disabled-fill-color: #666;\n",
              "  }\n",
              "\n",
              "  .colab-df-quickchart {\n",
              "    background-color: var(--bg-color);\n",
              "    border: none;\n",
              "    border-radius: 50%;\n",
              "    cursor: pointer;\n",
              "    display: none;\n",
              "    fill: var(--fill-color);\n",
              "    height: 32px;\n",
              "    padding: 0;\n",
              "    width: 32px;\n",
              "  }\n",
              "\n",
              "  .colab-df-quickchart:hover {\n",
              "    background-color: var(--hover-bg-color);\n",
              "    box-shadow: 0 1px 2px rgba(60, 64, 67, 0.3), 0 1px 3px 1px rgba(60, 64, 67, 0.15);\n",
              "    fill: var(--button-hover-fill-color);\n",
              "  }\n",
              "\n",
              "  .colab-df-quickchart-complete:disabled,\n",
              "  .colab-df-quickchart-complete:disabled:hover {\n",
              "    background-color: var(--disabled-bg-color);\n",
              "    fill: var(--disabled-fill-color);\n",
              "    box-shadow: none;\n",
              "  }\n",
              "\n",
              "  .colab-df-spinner {\n",
              "    border: 2px solid var(--fill-color);\n",
              "    border-color: transparent;\n",
              "    border-bottom-color: var(--fill-color);\n",
              "    animation:\n",
              "      spin 1s steps(1) infinite;\n",
              "  }\n",
              "\n",
              "  @keyframes spin {\n",
              "    0% {\n",
              "      border-color: transparent;\n",
              "      border-bottom-color: var(--fill-color);\n",
              "      border-left-color: var(--fill-color);\n",
              "    }\n",
              "    20% {\n",
              "      border-color: transparent;\n",
              "      border-left-color: var(--fill-color);\n",
              "      border-top-color: var(--fill-color);\n",
              "    }\n",
              "    30% {\n",
              "      border-color: transparent;\n",
              "      border-left-color: var(--fill-color);\n",
              "      border-top-color: var(--fill-color);\n",
              "      border-right-color: var(--fill-color);\n",
              "    }\n",
              "    40% {\n",
              "      border-color: transparent;\n",
              "      border-right-color: var(--fill-color);\n",
              "      border-top-color: var(--fill-color);\n",
              "    }\n",
              "    60% {\n",
              "      border-color: transparent;\n",
              "      border-right-color: var(--fill-color);\n",
              "    }\n",
              "    80% {\n",
              "      border-color: transparent;\n",
              "      border-right-color: var(--fill-color);\n",
              "      border-bottom-color: var(--fill-color);\n",
              "    }\n",
              "    90% {\n",
              "      border-color: transparent;\n",
              "      border-bottom-color: var(--fill-color);\n",
              "    }\n",
              "  }\n",
              "</style>\n",
              "\n",
              "  <script>\n",
              "    async function quickchart(key) {\n",
              "      const quickchartButtonEl =\n",
              "        document.querySelector('#' + key + ' button');\n",
              "      quickchartButtonEl.disabled = true;  // To prevent multiple clicks.\n",
              "      quickchartButtonEl.classList.add('colab-df-spinner');\n",
              "      try {\n",
              "        const charts = await google.colab.kernel.invokeFunction(\n",
              "            'suggestCharts', [key], {});\n",
              "      } catch (error) {\n",
              "        console.error('Error during call to suggestCharts:', error);\n",
              "      }\n",
              "      quickchartButtonEl.classList.remove('colab-df-spinner');\n",
              "      quickchartButtonEl.classList.add('colab-df-quickchart-complete');\n",
              "    }\n",
              "    (() => {\n",
              "      let quickchartButtonEl =\n",
              "        document.querySelector('#df-9d6736cf-2418-4a50-aca2-9a1275340a67 button');\n",
              "      quickchartButtonEl.style.display =\n",
              "        google.colab.kernel.accessAllowed ? 'block' : 'none';\n",
              "    })();\n",
              "  </script>\n",
              "</div>\n",
              "\n",
              "  <div id=\"id_6b17060b-8ae5-46fd-8892-86e6e9b4fa9f\">\n",
              "    <style>\n",
              "      .colab-df-generate {\n",
              "        background-color: #E8F0FE;\n",
              "        border: none;\n",
              "        border-radius: 50%;\n",
              "        cursor: pointer;\n",
              "        display: none;\n",
              "        fill: #1967D2;\n",
              "        height: 32px;\n",
              "        padding: 0 0 0 0;\n",
              "        width: 32px;\n",
              "      }\n",
              "\n",
              "      .colab-df-generate:hover {\n",
              "        background-color: #E2EBFA;\n",
              "        box-shadow: 0px 1px 2px rgba(60, 64, 67, 0.3), 0px 1px 3px 1px rgba(60, 64, 67, 0.15);\n",
              "        fill: #174EA6;\n",
              "      }\n",
              "\n",
              "      [theme=dark] .colab-df-generate {\n",
              "        background-color: #3B4455;\n",
              "        fill: #D2E3FC;\n",
              "      }\n",
              "\n",
              "      [theme=dark] .colab-df-generate:hover {\n",
              "        background-color: #434B5C;\n",
              "        box-shadow: 0px 1px 3px 1px rgba(0, 0, 0, 0.15);\n",
              "        filter: drop-shadow(0px 1px 2px rgba(0, 0, 0, 0.3));\n",
              "        fill: #FFFFFF;\n",
              "      }\n",
              "    </style>\n",
              "    <button class=\"colab-df-generate\" onclick=\"generateWithVariable('data')\"\n",
              "            title=\"Generate code using this dataframe.\"\n",
              "            style=\"display:none;\">\n",
              "\n",
              "  <svg xmlns=\"http://www.w3.org/2000/svg\" height=\"24px\"viewBox=\"0 0 24 24\"\n",
              "       width=\"24px\">\n",
              "    <path d=\"M7,19H8.4L18.45,9,17,7.55,7,17.6ZM5,21V16.75L18.45,3.32a2,2,0,0,1,2.83,0l1.4,1.43a1.91,1.91,0,0,1,.58,1.4,1.91,1.91,0,0,1-.58,1.4L9.25,21ZM18.45,9,17,7.55Zm-12,3A5.31,5.31,0,0,0,4.9,8.1,5.31,5.31,0,0,0,1,6.5,5.31,5.31,0,0,0,4.9,4.9,5.31,5.31,0,0,0,6.5,1,5.31,5.31,0,0,0,8.1,4.9,5.31,5.31,0,0,0,12,6.5,5.46,5.46,0,0,0,6.5,12Z\"/>\n",
              "  </svg>\n",
              "    </button>\n",
              "    <script>\n",
              "      (() => {\n",
              "      const buttonEl =\n",
              "        document.querySelector('#id_6b17060b-8ae5-46fd-8892-86e6e9b4fa9f button.colab-df-generate');\n",
              "      buttonEl.style.display =\n",
              "        google.colab.kernel.accessAllowed ? 'block' : 'none';\n",
              "\n",
              "      buttonEl.onclick = () => {\n",
              "        google.colab.notebook.generateWithVariable('data');\n",
              "      }\n",
              "      })();\n",
              "    </script>\n",
              "  </div>\n",
              "\n",
              "    </div>\n",
              "  </div>\n"
            ],
            "application/vnd.google.colaboratory.intrinsic+json": {
              "type": "dataframe",
              "variable_name": "data",
              "summary": "{\n  \"name\": \"data\",\n  \"rows\": 40365,\n  \"fields\": [\n    {\n      \"column\": \"id\",\n      \"properties\": {\n        \"dtype\": \"string\",\n        \"num_unique_values\": 20930,\n        \"samples\": [\n          \"3063\",\n          \"18185\",\n          \"19046\"\n        ],\n        \"semantic_type\": \"\",\n        \"description\": \"\"\n      }\n    },\n    {\n      \"column\": \"title\",\n      \"properties\": {\n        \"dtype\": \"category\",\n        \"num_unique_values\": 19897,\n        \"samples\": [\n          \"Atop the Gymnastics World, Simone Biles Can\\u00e2\\u0080\\u0099t Suppress Her Grin - The New York Times\",\n          \"Nigel Farage held at Heathrow on return from Trump visit due to \\u00e2\\u0080\\u0098mysterious brown substance\\u00e2\\u0080\\u0099 on nose\",\n          \"Oklahoma Governor Vetoes Bill That Would Charge Abortion Doctors - The New York Times\"\n        ],\n        \"semantic_type\": \"\",\n        \"description\": \"\"\n      }\n    },\n    {\n      \"column\": \"author\",\n      \"properties\": {\n        \"dtype\": \"category\",\n        \"num_unique_values\": 4262,\n        \"samples\": [\n          \"Shaila Dewan and Timothy Williams\",\n          \"Sheryl Gay Stolberg and Richard P\\u00c3\\u00a9rez-Pe\\u00c3\\u00b1a\",\n          \"Steve Eder and Dave Philipps\"\n        ],\n        \"semantic_type\": \"\",\n        \"description\": \"\"\n      }\n    },\n    {\n      \"column\": \"text\",\n      \"properties\": {\n        \"dtype\": \"string\",\n        \"num_unique_values\": 20504,\n        \"samples\": [\n          \"\\n\\u00e2\\u0080\\u009cI endorse Donald Trump\\u00e2\\u0080\\u009d- I am Hillary Clinton and I Approve this messageary\\nHere\\u00e2\\u0080\\u0099s Gary Franchi as he reports that that before running against billionaire real estate mogul Donald Trump for the presidency, Secretary of State Hillary Clinton told an audience at a private, paid speech she wanted to see more successful businessmen and women run for office because they can\\u00e2\\u0080\\u0099t be bought.\\nAMAZINGLY, SHE SAID DONALD TRUMP WOULD BE AN EXCELLENT PRESIDENT!!!\\n \\n\\n \\nP lease Donate to The Common Sense Show \\n \\nPLEASE SUBSCRIBE TO OUR YOUTUBE CHANNEL AND DON\\u00e2\\u0080\\u0099T FORGET TO \\u00e2\\u0080\\u009cLIKE\\u00e2\\u0080\\u009d US \\n\\n \\n\\nThis is the absolute best in food storage. Dave Hodges is a satisfied customer. Don\\u00e2\\u0080\\u0099t wait until it is too late. Click Here for more information.\\n \\n\\n\\nClick here for more information \\n \\nThe sane alternative to Facebook \\nSeen.Life-The Facebook alternative- no censorship, no spying\\u00e2\\u0080\\u0093 Sign up here \\n\",\n          \"The reality TV star Rob Kardashian had a family matter to discuss, so naturally, he turned to Twitter. \\u00e2\\u0080\\u009cDidn\\u00e2\\u0080\\u0099t invite the Mother of my child to a baby shower you all were trying to throw for me! !?\\u00e2\\u0080\\u009d he tweeted late last month, reigniting the feud between the   clan and his model fianc\\u00c3\\u00a9e, Blac Chyna. \\u00e2\\u0080\\u009cYou all must have lost your damn minds. \\u00e2\\u0080\\u009d In retaliation for the slight, he tweeted out his little sister Kylie Jenner\\u00e2\\u0080\\u0099s phone number. Mr. Kardashian, in internet parlance, had doxxed Ms. Jenner  \\u00e2\\u0080\\u0094   he published personal, private information about her online, seemingly without her consent. It\\u00e2\\u0080\\u0099s a maneuver harassers use to humiliate, intimidate or silence their targets. It also helped Mr. Kardashian score his most popular tweet ever. Lately, celebrity feuds have taken on the contours of cyberbullying, with famous rivals integrating the tactics of online harassers into their P. R. offensives. What looks like a public display of immaturity can actually be part of a sophisticated image management strategy. Retweet counts and Instagram followers are the new Billboard 100, and celebrities can gin up their numbers by instigating feuds with one another in increasingly nasty or technologically intriguing ways. But the game can have a dark side, especially for the losers. The modern celebrity arsenal incorporates these other digital bullying tools: SECRET RECORDINGS The celebrity squabble of the summer exploded when Kim Kardashian West released a surreptitiously recorded Taylor Swift talking on the phone with Ms. Kardashian West\\u00e2\\u0080\\u0099s husband, Kanye West  \\u00e2\\u0080\\u0094   a bid to prove that Ms. Swift had preapproved his controversial lyrics about her in his song \\u00e2\\u0080\\u009cFamous. \\u00e2\\u0080\\u009d Ms. Kardashian West posted the video evidence to Snapchat in July. (Such recordings are illegal in some states, including California, and run afoul of YouTube\\u00e2\\u0080\\u0099s harassment rules.)  SEXUAL HUMILIATION When the rappers Wiz Khalifa and Mr. West tussled on Twitter in January, Amber Rose, their mutual ex, stepped in to tease Mr. West about their sex life. And when Justin Bieber\\u00e2\\u0080\\u0099s   Selena Gomez waded into his Instagram comments to scold him for posting pictures with a new girlfriend and to accuse him of cheating on her, he struck back by accusing her of using the relationship for attention. REVENGE PORN After the teenage actress Chlo\\u00c3\\u00ab Grace Moretz tweeted dismissively about the   feud, yet another Kardashian  \\u00e2\\u0080\\u0094   Kim\\u00e2\\u0080\\u0099s sister Khlo\\u00c3\\u00a9  \\u00e2\\u0080\\u0094   responded by posting a photo of a woman resembling Ms. Moretz. She had jumped onto a young man\\u00e2\\u0080\\u0099s back on the beach, and her bikini bottoms were yanked to the side, revealing everything underneath. Ms. Moretz tweeted back to debunk the depantsing, writing that Ms. Kardashian had instead exposed \\u00e2\\u0080\\u009csome girl who was wrongfully photographed. \\u00e2\\u0080\\u009d MOB DEPLOYMENT For celebrities with the most rabid fandoms, even an oblique nod from the star can set off a fan stampede. After Ms. Kardashian West posted the Snapchat video of Ms. Swift\\u00e2\\u0080\\u0099s phone call, Kanye fans and allies  \\u00e2\\u0080\\u0094   many aligned with her spurned   Calvin Harris  \\u00e2\\u0080\\u0094   gathered under the #KimExposedTaylorParty hashtag to shovel out cruelly exultant GIFs and memes. (A commemorative   reading \\u00e2\\u0080\\u009cIn Memory of Taylor Swift, RIP, 1989 to 2016\\u00e2\\u0080\\u009d was soon offered for sale online.) And when Ms. Kardashian West cryptically tweeted a line of snake emoji, revelers bombarded Ms. Swift\\u00e2\\u0080\\u0099s Instagram with snake after snake after snake. It\\u00e2\\u0080\\u0099s no coincidence that a Kardashian fingerprint can be lifted from many of the most   incidents. While most celebrities use the internet to promote their mainstream careers  \\u00e2\\u0080\\u0094   movies, albums  \\u00e2\\u0080\\u0094   Ms. Kardashian West\\u00e2\\u0080\\u0099s core product is herself. Stirring up dramatic personal narratives on her reality television show and social media accounts is her main event. Ms. Swift, who studiously avoids confrontation while writing veiled riddles about her   and frenemies into her songs, didn\\u00e2\\u0080\\u0099t stand a chance. Ms. Kardashian West\\u00e2\\u0080\\u0099s assault was part of a multiplatform offensive. On Twitter, she leveraged Ms. Swift\\u00e2\\u0080\\u0099s phone call to advertise her new Snapchat account. And she went on to milk the publicity by posting another Snapchat video of herself singing along to the \\u00e2\\u0080\\u009cFamous\\u00e2\\u0080\\u009d lyrics in question. Her clip became an internet blockbuster not only because of the story it told but also because of the tactics it deployed. In the polished world of celebrity P. R. it\\u00e2\\u0080\\u0099s exceptional to see a celebrity exposed in a private moment, especially by one of her own kind. Meanwhile, Ms. Swift was put on the defensive, left to quibble about the details of the exchange in a   message that she typed on Apple\\u00e2\\u0080\\u0099s Notes app. She then took a screen shot of it and posted it to Instagram. Her   response to Ms. Kardashian West\\u00e2\\u0080\\u0099s raucous expos\\u00c3\\u00a9  \\u00e2\\u0080\\u0094   \\u00e2\\u0080\\u009cI would very much like to be excluded from this narrative\\u00e2\\u0080\\u009d  \\u00e2\\u0080\\u0094   soon curdled into a mocking meme. Who was in the right didn\\u00e2\\u0080\\u0099t matter  \\u00e2\\u0080\\u0094   Ms. Kardashian West won the game. Blac Chyna, who recently clawed her way into the Kardashian universe through her relationship with Rob, has proved a quick study. A few days after Mr. Kardashian doxxed his sister, Ms. Chyna posted his number to Twitter, too, then toggled over to Snapchat to explain that she\\u00e2\\u0080\\u0099d done it to compel her fianc\\u00c3\\u00a9 to change his number  \\u00e2\\u0080\\u0094   and flush out all the women who had been texting him. It was a strategic move, both personally and professionally  \\u00e2\\u0080\\u0094   it locked down her man, drew attention to her suite of social accounts and stirred interest in the couple\\u00e2\\u0080\\u0099s E! reality series, \\u00e2\\u0080\\u009cRob  Chyna. \\u00e2\\u0080\\u009d You\\u00e2\\u0080\\u0099d think that the utter savageness on display here would horrify fans. Online celebrity feuds capitalize on some of the most vile and destructive social ideas: that sexual shaming is an acceptable response to a stated opinion that women are manipulative liars and that a person who missteps in a private dispute deserves to be punished by the crowd. And these days, nearly everybody has a story about being subjected to similar abuse online. Occasionally,    attacks backfire: In May, the rapper Azealia Banks posted a racist tirade against the pop star Zayn Malik and soon found herself booted from Twitter for violating its harassment policy. But most of the time, salty celebrities have little to lose and millions of followers to gain. \\u00e2\\u0080\\u009cBullying\\u00e2\\u0080\\u009d and \\u00e2\\u0080\\u009charassment\\u00e2\\u0080\\u009d are amorphous categories, and the seriousness we attach to these tactics varies considerably depending on the power dynamics at play. Unlike the muscled jock who picks on the scrawny nerd, the straight teenager who harasses the gay kid or the jilted boyfriend who uses the cover of the internet to mar his ex\\u00e2\\u0080\\u0099s reputation, these celebrity cases can make us feel like mere mortals peering up at a couple of Greek gods shooting lightning bolts at each other. For some fans, their own experiences with harassment may fuel their desire to see the rich and famous get dragged down to their level. Instead of pity and concern for the targeted party, celebrity harassment produces in fans feelings of both fascination and schadenfreude. For the famous person caught in the cross hairs, though, it\\u00e2\\u0080\\u0099s not always so fun. Just ask Ms. Swift, who called Ms. Kardashian West\\u00e2\\u0080\\u0099s stunt \\u00e2\\u0080\\u009ccharacter assassination. \\u00e2\\u0080\\u009d Or the pop star Demi Lovato, who announced a career hiatus last week after getting dragged across Twitter over dismissive comments about Ms. Swift she made in a magazine interview. (\\u00e2\\u0080\\u009cTaking a break from the spotlight,\\u00e2\\u0080\\u009d Ms. Lovato tweeted last week. \\u00e2\\u0080\\u009cI am not meant for this business and the media. \\u00e2\\u0080\\u009d) Or Ms. Moretz, who did not deserve to be sexually humiliated for subtweeting Ms. Kardashian West. It\\u00e2\\u0080\\u0099s a P. R. game, until it\\u00e2\\u0080\\u0099s a real thing.\",\n          \"One evening in February, a man entering the subway at Barclays Center in Brooklyn was detained by the police for using a discounted student MetroCard  \\u00e2\\u0080\\u0094   his daughter\\u00e2\\u0080\\u0099s, it turned out. It was, he would say later, a stupid mistake that would lead to absurd consequences: The man, Blerim Skoro, a citizen of Kosovo, now sits in jail, facing potential deportation. But Mr. Skoro was no mere hapless  . \\u00e2\\u0080\\u009cI was working for U. S. government,\\u00e2\\u0080\\u009d he told a United States asylum officer in May, explaining his past life overseas and why he was now afraid of being sent back to Kosovo, a transcript shows. \\u00e2\\u0080\\u009cI was trained for Washington. I was a spy. \\u00e2\\u0080\\u009d A native of the old Yugoslavia, Mr. Skoro, 45, appears to have lived a remarkable, if hidden, life that sprang from his arrest in 2000 on federal drug charges he began cooperating with prosecutors in his case and others, pleaded guilty and received a   sentence. After Sept. 11, 2001, he says in an affidavit, he became a prison informer for the Federal Bureau of Investigation, providing leads on fellow inmates with terrorist ties. After completing his sentence, he said, he was deported in 2007, but agreed to continue working for the government overseas. He says he posed as a willing operative and insinuated himself with members of Al Qaeda in the Balkans, secretly supplying the Central Intelligence Agency with information about plots and the people behind them. After the C. I. A. cut ties with him in 2010, he says, he eventually returned to the United States via Canada  \\u00e2\\u0080\\u0094   illegally, he admits  \\u00e2\\u0080\\u0094   and last year, with the help of a lawyer, met separately with the F. B. I. and counterterrorism officials with the New York Police Department, trying unsuccessfully to offer clandestine assistance in the fight against the Islamic State. Spy stories, by their nature, are often unverifiable, and government officials are typically loath to discuss such accounts. Indeed, a bureau spokesman, asked about Mr. Skoro, said he could not \\u00e2\\u0080\\u009cconfirm or deny\\u00e2\\u0080\\u009d any part of the story. The C. I. A. the Police Department and the United States attorney\\u00e2\\u0080\\u0099s office in Brooklyn also declined to comment. Mr. Skoro, in several hours of interviews at the Bergen County Jail in northern New Jersey and by phone, showed a deep command of people, places and other facts, and said his information was corroborated through videos, photographs and copies of texts he had given his lawyers. Mr. Skoro, whose wife and three children, all American citizens, live in New York City, said he still had much to offer the authorities. \\u00e2\\u0080\\u009cI dealt with the most ruthless, dangerous terrorists in Balkans and Middle East,\\u00e2\\u0080\\u009d he said. Mr. Skoro, a practicing Muslim, said others of his faith should be willing to covertly assist in the fight against ISIS. But he suggested that his detention would send the opposite message. Muslims, he said, will ask, \\u00e2\\u0080\\u009cHow we can trust our government when you\\u00e2\\u0080\\u0099re going to put the spies in the prison?\\u00e2\\u0080\\u009d Mr. Skoro first entered the United States in 1994. In the 2000 drug importation case that led to his cooperation with the government, he transported at least 14 kilograms of heroin and cocaine and laundered about $670, 000 in drug proceeds, the judge said at his sentencing. Prosecutors recommended leniency, citing his assistance and noting he had provided significant intelligence about drug traffickers in the city\\u00e2\\u0080\\u0099s Albanian community. Mr. Skoro says the F. B. I. promised he would be allowed to stay in the country after serving his sentence and acting as a prison informer. But after being told in 2007 that he would be deported, he said he left his bitterness behind and agreed to work for the agency abroad. He received training in a safe house in Macedonia, and took on assignments in Pakistan, the Balkans, Syria and elsewhere, he said, posing as a jihadist who had become radicalized in prison. \\u00e2\\u0080\\u009cNobody was ever suspicious of me,\\u00e2\\u0080\\u009d he said. \\u00e2\\u0080\\u009cI was  . \\u00e2\\u0080\\u009d In Egypt, Mr. Skoro says in his affidavit, he befriended Betim Kaziu, a man who later told him of his plans to attack United States troops stationed in Kosovo, and had even recorded a martyrdom video. Mr. Skoro said he passed the information to the C. I. A. and Mr. Kaziu was later arrested, tried and convicted in Brooklyn and sentenced to 27 years. In 2010, Mr. Skoro says, he was shot and wounded on the way to a C. I. A. debriefing in Macedonia. He managed to escape, but the agency ended the relationship, paying him the equivalent of about $35, 000 to $40, 000 in euros, he said. The next year, while seeking asylum in Canada, Mr. Skoro was interviewed by the journalist Vincent Larouche for the online publication Rue Frontenac. The article, titled \\u00e2\\u0080\\u009cThe Fugitive With 1, 000 Secrets,\\u00e2\\u0080\\u009d referred to him by the pseudonym Abu it characterized his story as \\u00e2\\u0080\\u009cconvincing\\u00e2\\u0080\\u009d but noted that much of his account could not be confirmed. Aspects of his story also emerged in a 2015 court decision in Canada, related to an asylum request he had made that used his actual name, and cited his claim to have been a C. I. A. spy who had infiltrated Islamic terror cells. St\\u00c3\\u00a9phane Handfield, a Montreal lawyer who represented Mr. Skoro in Canada, said his asylum request was rejected in 2013, and a request to a federal court  for review was dismissed in 2015. But Mr. Skoro had already slipped into the United States illegally in November 2014. In New York, he says, he made contact with several lawyers who said recently that they found his story to be credible. One, Rene A. Kathawala, who leads the pro bono practice at Orrick, Herrington  Sutcliff, said his firm would do everything possible to assist Mr. Skoro and his immigration lawyer, Irwin Berowitz, in his deportation case. Mr. Berowitz said an asylum officer who recently interviewed Mr. Skoro found him credible and that he had established a \\u00e2\\u0080\\u009creasonable fear of persecution\\u00e2\\u0080\\u009d if deported to Kosovo. That finding allowed the case to be sent to an immigration judge for further proceedings, Mr. Berowitz said. Mr. Skoro was also referred to Joshua L. Dratel, a lawyer who has developed a national security practice. Mr. Skoro approached him in April 2015, intent on providing \\u00e2\\u0080\\u009cproactive undercover assistance to law enforcement\\u00e2\\u0080\\u009d with respect to ISIS, Mr. Dratel said in a declaration that is also part of the immigration case. Mr. Skoro initially told Mr. Dratel that he would be receiving a call from an American official, who would refer to Mr. Skoro by a code name, the declaration says. Mr. Dratel said he received such a call. The caller asked whether Mr. Skoro was overseas, in which case he could \\u00e2\\u0080\\u009cuse him. \\u00e2\\u0080\\u009d But if he was in the United States, he was \\u00e2\\u0080\\u009coff limits,\\u00e2\\u0080\\u009d the caller said. When Mr. Dratel said Mr. Skoro was in the United States, the caller gave Mr. Dratel the name and number of a senior F. B. I. counterterrorism official in Washington. In June 2015, Mr. Dratel said, Mr. Skoro eventually met at his office with two F. B. I. agents one agent, Mr. Dratel recalled, said the C. I. A. had confirmed to the bureau that Mr. Skoro had a former relationship with the agency. In November, Mr. Dratel arranged for Mr. Skoro to meet with New York police officials, including John J. Miller, the deputy commissioner for intelligence and counterterrorism. But the bureau and the police ultimately declined to use Mr. Skoro. One senior government official said that officials who met with Mr. Skoro had questioned his reliability. The official declined to be identified because he was not authorized to speak publicly about the case. Jack Cloonan, a retired F. B. I. counterterrorism agent who was involved in the bureau\\u00e2\\u0080\\u0099s investigation of Al Qaeda in the 1990s, said he had never heard of Mr. Skoro and had no idea if his claims were authentic. But he said the case underscored how important it was for the government to have someone who was Muslim and operational who could carry out acts that the intelligence agencies need. Mr. Cloonan also surmised that Mr. Skoro might have been considered unusable by the authorities because his identity had been divulged in Canada, or because there were questions about whether he could be trusted. But Mr. Cloonan said he also understood why officials would have wanted to meet with him. \\u00e2\\u0080\\u009cThere\\u00e2\\u0080\\u0099s a clear indication that everybody is scrambling,\\u00e2\\u0080\\u009d Mr. Cloonan said. \\u00e2\\u0080\\u009cEveryone is trying to get information, because we don\\u00e2\\u0080\\u0099t know if there\\u00e2\\u0080\\u0099s going to be another attack on the homeland. \\u00e2\\u0080\\u009d After Mr. Skoro\\u00e2\\u0080\\u0099s illegal   arrest in March, he was jailed without bond after federal prosecutors in Brooklyn argued he might flee. But on March 23, one day after ISIS\\u00e2\\u0080\\u0099 deadly attacks in Brussels, a prosecutor called Mr. Dratel and said the government was now interested in meeting with Mr. Skoro to determine whether he could be of assistance. Mr. Dratel said he met with prosecutors alone, outlining what his client knew and providing copies of screen shots of certain text messages between Mr. Skoro and a purported ISIS operative in Syria. Two days later, the government, without elaboration, moved to dismiss Mr. Skoro\\u00e2\\u0080\\u0099s illegal   charge. The prosecutors did not pursue a meeting with him directly, Mr. Dratel said. He was then moved into immigration custody, where he remains today.\"\n        ],\n        \"semantic_type\": \"\",\n        \"description\": \"\"\n      }\n    },\n    {\n      \"column\": \"label\",\n      \"properties\": {\n        \"dtype\": \"category\",\n        \"num_unique_values\": 21,\n        \"samples\": [\n          \"1\",\n          \" \\u00d0\\u00ba\\u00d0\\u00be\\u00d1\\u0082\\u00d0\\u00be\\u00d1\\u0080\\u00d1\\u008b\\u00d0\\u00b5 \\u00d1\\u008f \\u00d1\\u0081\\u00d0\\u00b4\\u00d0\\u00b5\\u00d0\\u00bb\\u00d0\\u00b0\\u00d0\\u00bb\\u00d0\\u00b0.\",\n          \" \\u00d1\\u0087\\u00d1\\u0082\\u00d0\\u00be \\u00d1\\u008d\\u00d1\\u0082\\u00d0\\u00be \\u00d0\\u00b2\\u00d0\\u00b0\\u00d0\\u00b6\\u00d0\\u00bd\\u00d0\\u00be.\"\n        ],\n        \"semantic_type\": \"\",\n        \"description\": \"\"\n      }\n    }\n  ]\n}"
            }
          },
          "metadata": {},
          "execution_count": 10
        }
      ]
    },
    {
      "cell_type": "code",
      "source": [
        "data.columns"
      ],
      "metadata": {
        "colab": {
          "base_uri": "https://localhost:8080/"
        },
        "id": "XgT0jL6z3rkD",
        "outputId": "904e75f6-f729-463c-d599-fcf6cffc9ace"
      },
      "execution_count": null,
      "outputs": [
        {
          "output_type": "execute_result",
          "data": {
            "text/plain": [
              "Index(['id', 'title', 'author', 'text', 'label'], dtype='object')"
            ]
          },
          "metadata": {},
          "execution_count": 11
        }
      ]
    },
    {
      "cell_type": "code",
      "source": [
        "x=data.drop('label', axis=1)"
      ],
      "metadata": {
        "id": "wCRSfdf-3whc"
      },
      "execution_count": null,
      "outputs": []
    },
    {
      "cell_type": "code",
      "source": [
        "x.head(2)"
      ],
      "metadata": {
        "colab": {
          "base_uri": "https://localhost:8080/",
          "height": 112
        },
        "id": "bo-HNYCn5For",
        "outputId": "139204c4-50f1-4256-b9c8-609de50049eb"
      },
      "execution_count": null,
      "outputs": [
        {
          "output_type": "execute_result",
          "data": {
            "text/plain": [
              "  id                                              title           author  \\\n",
              "0  0  House Dem Aide: We Didnât Even See Comeyâs...    Darrell Lucus   \n",
              "1  1  FLYNN: Hillary Clinton, Big Woman on Campus - ...  Daniel J. Flynn   \n",
              "\n",
              "                                                text  \n",
              "0  House Dem Aide: We Didnât Even See Comeyâs...  \n",
              "1  Ever get the feeling your life circles the rou...  "
            ],
            "text/html": [
              "\n",
              "  <div id=\"df-d45510e8-818d-4d8e-9b6c-0838edc34594\" class=\"colab-df-container\">\n",
              "    <div>\n",
              "<style scoped>\n",
              "    .dataframe tbody tr th:only-of-type {\n",
              "        vertical-align: middle;\n",
              "    }\n",
              "\n",
              "    .dataframe tbody tr th {\n",
              "        vertical-align: top;\n",
              "    }\n",
              "\n",
              "    .dataframe thead th {\n",
              "        text-align: right;\n",
              "    }\n",
              "</style>\n",
              "<table border=\"1\" class=\"dataframe\">\n",
              "  <thead>\n",
              "    <tr style=\"text-align: right;\">\n",
              "      <th></th>\n",
              "      <th>id</th>\n",
              "      <th>title</th>\n",
              "      <th>author</th>\n",
              "      <th>text</th>\n",
              "    </tr>\n",
              "  </thead>\n",
              "  <tbody>\n",
              "    <tr>\n",
              "      <th>0</th>\n",
              "      <td>0</td>\n",
              "      <td>House Dem Aide: We Didnât Even See Comeyâs...</td>\n",
              "      <td>Darrell Lucus</td>\n",
              "      <td>House Dem Aide: We Didnât Even See Comeyâs...</td>\n",
              "    </tr>\n",
              "    <tr>\n",
              "      <th>1</th>\n",
              "      <td>1</td>\n",
              "      <td>FLYNN: Hillary Clinton, Big Woman on Campus - ...</td>\n",
              "      <td>Daniel J. Flynn</td>\n",
              "      <td>Ever get the feeling your life circles the rou...</td>\n",
              "    </tr>\n",
              "  </tbody>\n",
              "</table>\n",
              "</div>\n",
              "    <div class=\"colab-df-buttons\">\n",
              "\n",
              "  <div class=\"colab-df-container\">\n",
              "    <button class=\"colab-df-convert\" onclick=\"convertToInteractive('df-d45510e8-818d-4d8e-9b6c-0838edc34594')\"\n",
              "            title=\"Convert this dataframe to an interactive table.\"\n",
              "            style=\"display:none;\">\n",
              "\n",
              "  <svg xmlns=\"http://www.w3.org/2000/svg\" height=\"24px\" viewBox=\"0 -960 960 960\">\n",
              "    <path d=\"M120-120v-720h720v720H120Zm60-500h600v-160H180v160Zm220 220h160v-160H400v160Zm0 220h160v-160H400v160ZM180-400h160v-160H180v160Zm440 0h160v-160H620v160ZM180-180h160v-160H180v160Zm440 0h160v-160H620v160Z\"/>\n",
              "  </svg>\n",
              "    </button>\n",
              "\n",
              "  <style>\n",
              "    .colab-df-container {\n",
              "      display:flex;\n",
              "      gap: 12px;\n",
              "    }\n",
              "\n",
              "    .colab-df-convert {\n",
              "      background-color: #E8F0FE;\n",
              "      border: none;\n",
              "      border-radius: 50%;\n",
              "      cursor: pointer;\n",
              "      display: none;\n",
              "      fill: #1967D2;\n",
              "      height: 32px;\n",
              "      padding: 0 0 0 0;\n",
              "      width: 32px;\n",
              "    }\n",
              "\n",
              "    .colab-df-convert:hover {\n",
              "      background-color: #E2EBFA;\n",
              "      box-shadow: 0px 1px 2px rgba(60, 64, 67, 0.3), 0px 1px 3px 1px rgba(60, 64, 67, 0.15);\n",
              "      fill: #174EA6;\n",
              "    }\n",
              "\n",
              "    .colab-df-buttons div {\n",
              "      margin-bottom: 4px;\n",
              "    }\n",
              "\n",
              "    [theme=dark] .colab-df-convert {\n",
              "      background-color: #3B4455;\n",
              "      fill: #D2E3FC;\n",
              "    }\n",
              "\n",
              "    [theme=dark] .colab-df-convert:hover {\n",
              "      background-color: #434B5C;\n",
              "      box-shadow: 0px 1px 3px 1px rgba(0, 0, 0, 0.15);\n",
              "      filter: drop-shadow(0px 1px 2px rgba(0, 0, 0, 0.3));\n",
              "      fill: #FFFFFF;\n",
              "    }\n",
              "  </style>\n",
              "\n",
              "    <script>\n",
              "      const buttonEl =\n",
              "        document.querySelector('#df-d45510e8-818d-4d8e-9b6c-0838edc34594 button.colab-df-convert');\n",
              "      buttonEl.style.display =\n",
              "        google.colab.kernel.accessAllowed ? 'block' : 'none';\n",
              "\n",
              "      async function convertToInteractive(key) {\n",
              "        const element = document.querySelector('#df-d45510e8-818d-4d8e-9b6c-0838edc34594');\n",
              "        const dataTable =\n",
              "          await google.colab.kernel.invokeFunction('convertToInteractive',\n",
              "                                                    [key], {});\n",
              "        if (!dataTable) return;\n",
              "\n",
              "        const docLinkHtml = 'Like what you see? Visit the ' +\n",
              "          '<a target=\"_blank\" href=https://colab.research.google.com/notebooks/data_table.ipynb>data table notebook</a>'\n",
              "          + ' to learn more about interactive tables.';\n",
              "        element.innerHTML = '';\n",
              "        dataTable['output_type'] = 'display_data';\n",
              "        await google.colab.output.renderOutput(dataTable, element);\n",
              "        const docLink = document.createElement('div');\n",
              "        docLink.innerHTML = docLinkHtml;\n",
              "        element.appendChild(docLink);\n",
              "      }\n",
              "    </script>\n",
              "  </div>\n",
              "\n",
              "\n",
              "<div id=\"df-2fc006c8-df80-46d6-9be5-1fa4e1404e9d\">\n",
              "  <button class=\"colab-df-quickchart\" onclick=\"quickchart('df-2fc006c8-df80-46d6-9be5-1fa4e1404e9d')\"\n",
              "            title=\"Suggest charts\"\n",
              "            style=\"display:none;\">\n",
              "\n",
              "<svg xmlns=\"http://www.w3.org/2000/svg\" height=\"24px\"viewBox=\"0 0 24 24\"\n",
              "     width=\"24px\">\n",
              "    <g>\n",
              "        <path d=\"M19 3H5c-1.1 0-2 .9-2 2v14c0 1.1.9 2 2 2h14c1.1 0 2-.9 2-2V5c0-1.1-.9-2-2-2zM9 17H7v-7h2v7zm4 0h-2V7h2v10zm4 0h-2v-4h2v4z\"/>\n",
              "    </g>\n",
              "</svg>\n",
              "  </button>\n",
              "\n",
              "<style>\n",
              "  .colab-df-quickchart {\n",
              "      --bg-color: #E8F0FE;\n",
              "      --fill-color: #1967D2;\n",
              "      --hover-bg-color: #E2EBFA;\n",
              "      --hover-fill-color: #174EA6;\n",
              "      --disabled-fill-color: #AAA;\n",
              "      --disabled-bg-color: #DDD;\n",
              "  }\n",
              "\n",
              "  [theme=dark] .colab-df-quickchart {\n",
              "      --bg-color: #3B4455;\n",
              "      --fill-color: #D2E3FC;\n",
              "      --hover-bg-color: #434B5C;\n",
              "      --hover-fill-color: #FFFFFF;\n",
              "      --disabled-bg-color: #3B4455;\n",
              "      --disabled-fill-color: #666;\n",
              "  }\n",
              "\n",
              "  .colab-df-quickchart {\n",
              "    background-color: var(--bg-color);\n",
              "    border: none;\n",
              "    border-radius: 50%;\n",
              "    cursor: pointer;\n",
              "    display: none;\n",
              "    fill: var(--fill-color);\n",
              "    height: 32px;\n",
              "    padding: 0;\n",
              "    width: 32px;\n",
              "  }\n",
              "\n",
              "  .colab-df-quickchart:hover {\n",
              "    background-color: var(--hover-bg-color);\n",
              "    box-shadow: 0 1px 2px rgba(60, 64, 67, 0.3), 0 1px 3px 1px rgba(60, 64, 67, 0.15);\n",
              "    fill: var(--button-hover-fill-color);\n",
              "  }\n",
              "\n",
              "  .colab-df-quickchart-complete:disabled,\n",
              "  .colab-df-quickchart-complete:disabled:hover {\n",
              "    background-color: var(--disabled-bg-color);\n",
              "    fill: var(--disabled-fill-color);\n",
              "    box-shadow: none;\n",
              "  }\n",
              "\n",
              "  .colab-df-spinner {\n",
              "    border: 2px solid var(--fill-color);\n",
              "    border-color: transparent;\n",
              "    border-bottom-color: var(--fill-color);\n",
              "    animation:\n",
              "      spin 1s steps(1) infinite;\n",
              "  }\n",
              "\n",
              "  @keyframes spin {\n",
              "    0% {\n",
              "      border-color: transparent;\n",
              "      border-bottom-color: var(--fill-color);\n",
              "      border-left-color: var(--fill-color);\n",
              "    }\n",
              "    20% {\n",
              "      border-color: transparent;\n",
              "      border-left-color: var(--fill-color);\n",
              "      border-top-color: var(--fill-color);\n",
              "    }\n",
              "    30% {\n",
              "      border-color: transparent;\n",
              "      border-left-color: var(--fill-color);\n",
              "      border-top-color: var(--fill-color);\n",
              "      border-right-color: var(--fill-color);\n",
              "    }\n",
              "    40% {\n",
              "      border-color: transparent;\n",
              "      border-right-color: var(--fill-color);\n",
              "      border-top-color: var(--fill-color);\n",
              "    }\n",
              "    60% {\n",
              "      border-color: transparent;\n",
              "      border-right-color: var(--fill-color);\n",
              "    }\n",
              "    80% {\n",
              "      border-color: transparent;\n",
              "      border-right-color: var(--fill-color);\n",
              "      border-bottom-color: var(--fill-color);\n",
              "    }\n",
              "    90% {\n",
              "      border-color: transparent;\n",
              "      border-bottom-color: var(--fill-color);\n",
              "    }\n",
              "  }\n",
              "</style>\n",
              "\n",
              "  <script>\n",
              "    async function quickchart(key) {\n",
              "      const quickchartButtonEl =\n",
              "        document.querySelector('#' + key + ' button');\n",
              "      quickchartButtonEl.disabled = true;  // To prevent multiple clicks.\n",
              "      quickchartButtonEl.classList.add('colab-df-spinner');\n",
              "      try {\n",
              "        const charts = await google.colab.kernel.invokeFunction(\n",
              "            'suggestCharts', [key], {});\n",
              "      } catch (error) {\n",
              "        console.error('Error during call to suggestCharts:', error);\n",
              "      }\n",
              "      quickchartButtonEl.classList.remove('colab-df-spinner');\n",
              "      quickchartButtonEl.classList.add('colab-df-quickchart-complete');\n",
              "    }\n",
              "    (() => {\n",
              "      let quickchartButtonEl =\n",
              "        document.querySelector('#df-2fc006c8-df80-46d6-9be5-1fa4e1404e9d button');\n",
              "      quickchartButtonEl.style.display =\n",
              "        google.colab.kernel.accessAllowed ? 'block' : 'none';\n",
              "    })();\n",
              "  </script>\n",
              "</div>\n",
              "\n",
              "    </div>\n",
              "  </div>\n"
            ],
            "application/vnd.google.colaboratory.intrinsic+json": {
              "type": "dataframe",
              "variable_name": "x",
              "summary": "{\n  \"name\": \"x\",\n  \"rows\": 40365,\n  \"fields\": [\n    {\n      \"column\": \"id\",\n      \"properties\": {\n        \"dtype\": \"string\",\n        \"num_unique_values\": 20930,\n        \"samples\": [\n          \"3063\",\n          \"18185\",\n          \"19046\"\n        ],\n        \"semantic_type\": \"\",\n        \"description\": \"\"\n      }\n    },\n    {\n      \"column\": \"title\",\n      \"properties\": {\n        \"dtype\": \"category\",\n        \"num_unique_values\": 19897,\n        \"samples\": [\n          \"Atop the Gymnastics World, Simone Biles Can\\u00e2\\u0080\\u0099t Suppress Her Grin - The New York Times\",\n          \"Nigel Farage held at Heathrow on return from Trump visit due to \\u00e2\\u0080\\u0098mysterious brown substance\\u00e2\\u0080\\u0099 on nose\",\n          \"Oklahoma Governor Vetoes Bill That Would Charge Abortion Doctors - The New York Times\"\n        ],\n        \"semantic_type\": \"\",\n        \"description\": \"\"\n      }\n    },\n    {\n      \"column\": \"author\",\n      \"properties\": {\n        \"dtype\": \"category\",\n        \"num_unique_values\": 4262,\n        \"samples\": [\n          \"Shaila Dewan and Timothy Williams\",\n          \"Sheryl Gay Stolberg and Richard P\\u00c3\\u00a9rez-Pe\\u00c3\\u00b1a\",\n          \"Steve Eder and Dave Philipps\"\n        ],\n        \"semantic_type\": \"\",\n        \"description\": \"\"\n      }\n    },\n    {\n      \"column\": \"text\",\n      \"properties\": {\n        \"dtype\": \"string\",\n        \"num_unique_values\": 20504,\n        \"samples\": [\n          \"\\n\\u00e2\\u0080\\u009cI endorse Donald Trump\\u00e2\\u0080\\u009d- I am Hillary Clinton and I Approve this messageary\\nHere\\u00e2\\u0080\\u0099s Gary Franchi as he reports that that before running against billionaire real estate mogul Donald Trump for the presidency, Secretary of State Hillary Clinton told an audience at a private, paid speech she wanted to see more successful businessmen and women run for office because they can\\u00e2\\u0080\\u0099t be bought.\\nAMAZINGLY, SHE SAID DONALD TRUMP WOULD BE AN EXCELLENT PRESIDENT!!!\\n \\n\\n \\nP lease Donate to The Common Sense Show \\n \\nPLEASE SUBSCRIBE TO OUR YOUTUBE CHANNEL AND DON\\u00e2\\u0080\\u0099T FORGET TO \\u00e2\\u0080\\u009cLIKE\\u00e2\\u0080\\u009d US \\n\\n \\n\\nThis is the absolute best in food storage. Dave Hodges is a satisfied customer. Don\\u00e2\\u0080\\u0099t wait until it is too late. Click Here for more information.\\n \\n\\n\\nClick here for more information \\n \\nThe sane alternative to Facebook \\nSeen.Life-The Facebook alternative- no censorship, no spying\\u00e2\\u0080\\u0093 Sign up here \\n\",\n          \"The reality TV star Rob Kardashian had a family matter to discuss, so naturally, he turned to Twitter. \\u00e2\\u0080\\u009cDidn\\u00e2\\u0080\\u0099t invite the Mother of my child to a baby shower you all were trying to throw for me! !?\\u00e2\\u0080\\u009d he tweeted late last month, reigniting the feud between the   clan and his model fianc\\u00c3\\u00a9e, Blac Chyna. \\u00e2\\u0080\\u009cYou all must have lost your damn minds. \\u00e2\\u0080\\u009d In retaliation for the slight, he tweeted out his little sister Kylie Jenner\\u00e2\\u0080\\u0099s phone number. Mr. Kardashian, in internet parlance, had doxxed Ms. Jenner  \\u00e2\\u0080\\u0094   he published personal, private information about her online, seemingly without her consent. It\\u00e2\\u0080\\u0099s a maneuver harassers use to humiliate, intimidate or silence their targets. It also helped Mr. Kardashian score his most popular tweet ever. Lately, celebrity feuds have taken on the contours of cyberbullying, with famous rivals integrating the tactics of online harassers into their P. R. offensives. What looks like a public display of immaturity can actually be part of a sophisticated image management strategy. Retweet counts and Instagram followers are the new Billboard 100, and celebrities can gin up their numbers by instigating feuds with one another in increasingly nasty or technologically intriguing ways. But the game can have a dark side, especially for the losers. The modern celebrity arsenal incorporates these other digital bullying tools: SECRET RECORDINGS The celebrity squabble of the summer exploded when Kim Kardashian West released a surreptitiously recorded Taylor Swift talking on the phone with Ms. Kardashian West\\u00e2\\u0080\\u0099s husband, Kanye West  \\u00e2\\u0080\\u0094   a bid to prove that Ms. Swift had preapproved his controversial lyrics about her in his song \\u00e2\\u0080\\u009cFamous. \\u00e2\\u0080\\u009d Ms. Kardashian West posted the video evidence to Snapchat in July. (Such recordings are illegal in some states, including California, and run afoul of YouTube\\u00e2\\u0080\\u0099s harassment rules.)  SEXUAL HUMILIATION When the rappers Wiz Khalifa and Mr. West tussled on Twitter in January, Amber Rose, their mutual ex, stepped in to tease Mr. West about their sex life. And when Justin Bieber\\u00e2\\u0080\\u0099s   Selena Gomez waded into his Instagram comments to scold him for posting pictures with a new girlfriend and to accuse him of cheating on her, he struck back by accusing her of using the relationship for attention. REVENGE PORN After the teenage actress Chlo\\u00c3\\u00ab Grace Moretz tweeted dismissively about the   feud, yet another Kardashian  \\u00e2\\u0080\\u0094   Kim\\u00e2\\u0080\\u0099s sister Khlo\\u00c3\\u00a9  \\u00e2\\u0080\\u0094   responded by posting a photo of a woman resembling Ms. Moretz. She had jumped onto a young man\\u00e2\\u0080\\u0099s back on the beach, and her bikini bottoms were yanked to the side, revealing everything underneath. Ms. Moretz tweeted back to debunk the depantsing, writing that Ms. Kardashian had instead exposed \\u00e2\\u0080\\u009csome girl who was wrongfully photographed. \\u00e2\\u0080\\u009d MOB DEPLOYMENT For celebrities with the most rabid fandoms, even an oblique nod from the star can set off a fan stampede. After Ms. Kardashian West posted the Snapchat video of Ms. Swift\\u00e2\\u0080\\u0099s phone call, Kanye fans and allies  \\u00e2\\u0080\\u0094   many aligned with her spurned   Calvin Harris  \\u00e2\\u0080\\u0094   gathered under the #KimExposedTaylorParty hashtag to shovel out cruelly exultant GIFs and memes. (A commemorative   reading \\u00e2\\u0080\\u009cIn Memory of Taylor Swift, RIP, 1989 to 2016\\u00e2\\u0080\\u009d was soon offered for sale online.) And when Ms. Kardashian West cryptically tweeted a line of snake emoji, revelers bombarded Ms. Swift\\u00e2\\u0080\\u0099s Instagram with snake after snake after snake. It\\u00e2\\u0080\\u0099s no coincidence that a Kardashian fingerprint can be lifted from many of the most   incidents. While most celebrities use the internet to promote their mainstream careers  \\u00e2\\u0080\\u0094   movies, albums  \\u00e2\\u0080\\u0094   Ms. Kardashian West\\u00e2\\u0080\\u0099s core product is herself. Stirring up dramatic personal narratives on her reality television show and social media accounts is her main event. Ms. Swift, who studiously avoids confrontation while writing veiled riddles about her   and frenemies into her songs, didn\\u00e2\\u0080\\u0099t stand a chance. Ms. Kardashian West\\u00e2\\u0080\\u0099s assault was part of a multiplatform offensive. On Twitter, she leveraged Ms. Swift\\u00e2\\u0080\\u0099s phone call to advertise her new Snapchat account. And she went on to milk the publicity by posting another Snapchat video of herself singing along to the \\u00e2\\u0080\\u009cFamous\\u00e2\\u0080\\u009d lyrics in question. Her clip became an internet blockbuster not only because of the story it told but also because of the tactics it deployed. In the polished world of celebrity P. R. it\\u00e2\\u0080\\u0099s exceptional to see a celebrity exposed in a private moment, especially by one of her own kind. Meanwhile, Ms. Swift was put on the defensive, left to quibble about the details of the exchange in a   message that she typed on Apple\\u00e2\\u0080\\u0099s Notes app. She then took a screen shot of it and posted it to Instagram. Her   response to Ms. Kardashian West\\u00e2\\u0080\\u0099s raucous expos\\u00c3\\u00a9  \\u00e2\\u0080\\u0094   \\u00e2\\u0080\\u009cI would very much like to be excluded from this narrative\\u00e2\\u0080\\u009d  \\u00e2\\u0080\\u0094   soon curdled into a mocking meme. Who was in the right didn\\u00e2\\u0080\\u0099t matter  \\u00e2\\u0080\\u0094   Ms. Kardashian West won the game. Blac Chyna, who recently clawed her way into the Kardashian universe through her relationship with Rob, has proved a quick study. A few days after Mr. Kardashian doxxed his sister, Ms. Chyna posted his number to Twitter, too, then toggled over to Snapchat to explain that she\\u00e2\\u0080\\u0099d done it to compel her fianc\\u00c3\\u00a9 to change his number  \\u00e2\\u0080\\u0094   and flush out all the women who had been texting him. It was a strategic move, both personally and professionally  \\u00e2\\u0080\\u0094   it locked down her man, drew attention to her suite of social accounts and stirred interest in the couple\\u00e2\\u0080\\u0099s E! reality series, \\u00e2\\u0080\\u009cRob  Chyna. \\u00e2\\u0080\\u009d You\\u00e2\\u0080\\u0099d think that the utter savageness on display here would horrify fans. Online celebrity feuds capitalize on some of the most vile and destructive social ideas: that sexual shaming is an acceptable response to a stated opinion that women are manipulative liars and that a person who missteps in a private dispute deserves to be punished by the crowd. And these days, nearly everybody has a story about being subjected to similar abuse online. Occasionally,    attacks backfire: In May, the rapper Azealia Banks posted a racist tirade against the pop star Zayn Malik and soon found herself booted from Twitter for violating its harassment policy. But most of the time, salty celebrities have little to lose and millions of followers to gain. \\u00e2\\u0080\\u009cBullying\\u00e2\\u0080\\u009d and \\u00e2\\u0080\\u009charassment\\u00e2\\u0080\\u009d are amorphous categories, and the seriousness we attach to these tactics varies considerably depending on the power dynamics at play. Unlike the muscled jock who picks on the scrawny nerd, the straight teenager who harasses the gay kid or the jilted boyfriend who uses the cover of the internet to mar his ex\\u00e2\\u0080\\u0099s reputation, these celebrity cases can make us feel like mere mortals peering up at a couple of Greek gods shooting lightning bolts at each other. For some fans, their own experiences with harassment may fuel their desire to see the rich and famous get dragged down to their level. Instead of pity and concern for the targeted party, celebrity harassment produces in fans feelings of both fascination and schadenfreude. For the famous person caught in the cross hairs, though, it\\u00e2\\u0080\\u0099s not always so fun. Just ask Ms. Swift, who called Ms. Kardashian West\\u00e2\\u0080\\u0099s stunt \\u00e2\\u0080\\u009ccharacter assassination. \\u00e2\\u0080\\u009d Or the pop star Demi Lovato, who announced a career hiatus last week after getting dragged across Twitter over dismissive comments about Ms. Swift she made in a magazine interview. (\\u00e2\\u0080\\u009cTaking a break from the spotlight,\\u00e2\\u0080\\u009d Ms. Lovato tweeted last week. \\u00e2\\u0080\\u009cI am not meant for this business and the media. \\u00e2\\u0080\\u009d) Or Ms. Moretz, who did not deserve to be sexually humiliated for subtweeting Ms. Kardashian West. It\\u00e2\\u0080\\u0099s a P. R. game, until it\\u00e2\\u0080\\u0099s a real thing.\",\n          \"One evening in February, a man entering the subway at Barclays Center in Brooklyn was detained by the police for using a discounted student MetroCard  \\u00e2\\u0080\\u0094   his daughter\\u00e2\\u0080\\u0099s, it turned out. It was, he would say later, a stupid mistake that would lead to absurd consequences: The man, Blerim Skoro, a citizen of Kosovo, now sits in jail, facing potential deportation. But Mr. Skoro was no mere hapless  . \\u00e2\\u0080\\u009cI was working for U. S. government,\\u00e2\\u0080\\u009d he told a United States asylum officer in May, explaining his past life overseas and why he was now afraid of being sent back to Kosovo, a transcript shows. \\u00e2\\u0080\\u009cI was trained for Washington. I was a spy. \\u00e2\\u0080\\u009d A native of the old Yugoslavia, Mr. Skoro, 45, appears to have lived a remarkable, if hidden, life that sprang from his arrest in 2000 on federal drug charges he began cooperating with prosecutors in his case and others, pleaded guilty and received a   sentence. After Sept. 11, 2001, he says in an affidavit, he became a prison informer for the Federal Bureau of Investigation, providing leads on fellow inmates with terrorist ties. After completing his sentence, he said, he was deported in 2007, but agreed to continue working for the government overseas. He says he posed as a willing operative and insinuated himself with members of Al Qaeda in the Balkans, secretly supplying the Central Intelligence Agency with information about plots and the people behind them. After the C. I. A. cut ties with him in 2010, he says, he eventually returned to the United States via Canada  \\u00e2\\u0080\\u0094   illegally, he admits  \\u00e2\\u0080\\u0094   and last year, with the help of a lawyer, met separately with the F. B. I. and counterterrorism officials with the New York Police Department, trying unsuccessfully to offer clandestine assistance in the fight against the Islamic State. Spy stories, by their nature, are often unverifiable, and government officials are typically loath to discuss such accounts. Indeed, a bureau spokesman, asked about Mr. Skoro, said he could not \\u00e2\\u0080\\u009cconfirm or deny\\u00e2\\u0080\\u009d any part of the story. The C. I. A. the Police Department and the United States attorney\\u00e2\\u0080\\u0099s office in Brooklyn also declined to comment. Mr. Skoro, in several hours of interviews at the Bergen County Jail in northern New Jersey and by phone, showed a deep command of people, places and other facts, and said his information was corroborated through videos, photographs and copies of texts he had given his lawyers. Mr. Skoro, whose wife and three children, all American citizens, live in New York City, said he still had much to offer the authorities. \\u00e2\\u0080\\u009cI dealt with the most ruthless, dangerous terrorists in Balkans and Middle East,\\u00e2\\u0080\\u009d he said. Mr. Skoro, a practicing Muslim, said others of his faith should be willing to covertly assist in the fight against ISIS. But he suggested that his detention would send the opposite message. Muslims, he said, will ask, \\u00e2\\u0080\\u009cHow we can trust our government when you\\u00e2\\u0080\\u0099re going to put the spies in the prison?\\u00e2\\u0080\\u009d Mr. Skoro first entered the United States in 1994. In the 2000 drug importation case that led to his cooperation with the government, he transported at least 14 kilograms of heroin and cocaine and laundered about $670, 000 in drug proceeds, the judge said at his sentencing. Prosecutors recommended leniency, citing his assistance and noting he had provided significant intelligence about drug traffickers in the city\\u00e2\\u0080\\u0099s Albanian community. Mr. Skoro says the F. B. I. promised he would be allowed to stay in the country after serving his sentence and acting as a prison informer. But after being told in 2007 that he would be deported, he said he left his bitterness behind and agreed to work for the agency abroad. He received training in a safe house in Macedonia, and took on assignments in Pakistan, the Balkans, Syria and elsewhere, he said, posing as a jihadist who had become radicalized in prison. \\u00e2\\u0080\\u009cNobody was ever suspicious of me,\\u00e2\\u0080\\u009d he said. \\u00e2\\u0080\\u009cI was  . \\u00e2\\u0080\\u009d In Egypt, Mr. Skoro says in his affidavit, he befriended Betim Kaziu, a man who later told him of his plans to attack United States troops stationed in Kosovo, and had even recorded a martyrdom video. Mr. Skoro said he passed the information to the C. I. A. and Mr. Kaziu was later arrested, tried and convicted in Brooklyn and sentenced to 27 years. In 2010, Mr. Skoro says, he was shot and wounded on the way to a C. I. A. debriefing in Macedonia. He managed to escape, but the agency ended the relationship, paying him the equivalent of about $35, 000 to $40, 000 in euros, he said. The next year, while seeking asylum in Canada, Mr. Skoro was interviewed by the journalist Vincent Larouche for the online publication Rue Frontenac. The article, titled \\u00e2\\u0080\\u009cThe Fugitive With 1, 000 Secrets,\\u00e2\\u0080\\u009d referred to him by the pseudonym Abu it characterized his story as \\u00e2\\u0080\\u009cconvincing\\u00e2\\u0080\\u009d but noted that much of his account could not be confirmed. Aspects of his story also emerged in a 2015 court decision in Canada, related to an asylum request he had made that used his actual name, and cited his claim to have been a C. I. A. spy who had infiltrated Islamic terror cells. St\\u00c3\\u00a9phane Handfield, a Montreal lawyer who represented Mr. Skoro in Canada, said his asylum request was rejected in 2013, and a request to a federal court  for review was dismissed in 2015. But Mr. Skoro had already slipped into the United States illegally in November 2014. In New York, he says, he made contact with several lawyers who said recently that they found his story to be credible. One, Rene A. Kathawala, who leads the pro bono practice at Orrick, Herrington  Sutcliff, said his firm would do everything possible to assist Mr. Skoro and his immigration lawyer, Irwin Berowitz, in his deportation case. Mr. Berowitz said an asylum officer who recently interviewed Mr. Skoro found him credible and that he had established a \\u00e2\\u0080\\u009creasonable fear of persecution\\u00e2\\u0080\\u009d if deported to Kosovo. That finding allowed the case to be sent to an immigration judge for further proceedings, Mr. Berowitz said. Mr. Skoro was also referred to Joshua L. Dratel, a lawyer who has developed a national security practice. Mr. Skoro approached him in April 2015, intent on providing \\u00e2\\u0080\\u009cproactive undercover assistance to law enforcement\\u00e2\\u0080\\u009d with respect to ISIS, Mr. Dratel said in a declaration that is also part of the immigration case. Mr. Skoro initially told Mr. Dratel that he would be receiving a call from an American official, who would refer to Mr. Skoro by a code name, the declaration says. Mr. Dratel said he received such a call. The caller asked whether Mr. Skoro was overseas, in which case he could \\u00e2\\u0080\\u009cuse him. \\u00e2\\u0080\\u009d But if he was in the United States, he was \\u00e2\\u0080\\u009coff limits,\\u00e2\\u0080\\u009d the caller said. When Mr. Dratel said Mr. Skoro was in the United States, the caller gave Mr. Dratel the name and number of a senior F. B. I. counterterrorism official in Washington. In June 2015, Mr. Dratel said, Mr. Skoro eventually met at his office with two F. B. I. agents one agent, Mr. Dratel recalled, said the C. I. A. had confirmed to the bureau that Mr. Skoro had a former relationship with the agency. In November, Mr. Dratel arranged for Mr. Skoro to meet with New York police officials, including John J. Miller, the deputy commissioner for intelligence and counterterrorism. But the bureau and the police ultimately declined to use Mr. Skoro. One senior government official said that officials who met with Mr. Skoro had questioned his reliability. The official declined to be identified because he was not authorized to speak publicly about the case. Jack Cloonan, a retired F. B. I. counterterrorism agent who was involved in the bureau\\u00e2\\u0080\\u0099s investigation of Al Qaeda in the 1990s, said he had never heard of Mr. Skoro and had no idea if his claims were authentic. But he said the case underscored how important it was for the government to have someone who was Muslim and operational who could carry out acts that the intelligence agencies need. Mr. Cloonan also surmised that Mr. Skoro might have been considered unusable by the authorities because his identity had been divulged in Canada, or because there were questions about whether he could be trusted. But Mr. Cloonan said he also understood why officials would have wanted to meet with him. \\u00e2\\u0080\\u009cThere\\u00e2\\u0080\\u0099s a clear indication that everybody is scrambling,\\u00e2\\u0080\\u009d Mr. Cloonan said. \\u00e2\\u0080\\u009cEveryone is trying to get information, because we don\\u00e2\\u0080\\u0099t know if there\\u00e2\\u0080\\u0099s going to be another attack on the homeland. \\u00e2\\u0080\\u009d After Mr. Skoro\\u00e2\\u0080\\u0099s illegal   arrest in March, he was jailed without bond after federal prosecutors in Brooklyn argued he might flee. But on March 23, one day after ISIS\\u00e2\\u0080\\u0099 deadly attacks in Brussels, a prosecutor called Mr. Dratel and said the government was now interested in meeting with Mr. Skoro to determine whether he could be of assistance. Mr. Dratel said he met with prosecutors alone, outlining what his client knew and providing copies of screen shots of certain text messages between Mr. Skoro and a purported ISIS operative in Syria. Two days later, the government, without elaboration, moved to dismiss Mr. Skoro\\u00e2\\u0080\\u0099s illegal   charge. The prosecutors did not pursue a meeting with him directly, Mr. Dratel said. He was then moved into immigration custody, where he remains today.\"\n        ],\n        \"semantic_type\": \"\",\n        \"description\": \"\"\n      }\n    }\n  ]\n}"
            }
          },
          "metadata": {},
          "execution_count": 14
        }
      ]
    },
    {
      "cell_type": "code",
      "source": [
        "y=data['label']"
      ],
      "metadata": {
        "id": "g5XDRgfV5JUS"
      },
      "execution_count": null,
      "outputs": []
    },
    {
      "cell_type": "code",
      "source": [
        "y.head(2)"
      ],
      "metadata": {
        "colab": {
          "base_uri": "https://localhost:8080/",
          "height": 147
        },
        "id": "t8vlZ2hD5MBq",
        "outputId": "20aa7f80-43fa-4dad-a73d-53e79a8ad4ac"
      },
      "execution_count": null,
      "outputs": [
        {
          "output_type": "execute_result",
          "data": {
            "text/plain": [
              "0    1\n",
              "1    0\n",
              "Name: label, dtype: object"
            ],
            "text/html": [
              "<div>\n",
              "<style scoped>\n",
              "    .dataframe tbody tr th:only-of-type {\n",
              "        vertical-align: middle;\n",
              "    }\n",
              "\n",
              "    .dataframe tbody tr th {\n",
              "        vertical-align: top;\n",
              "    }\n",
              "\n",
              "    .dataframe thead th {\n",
              "        text-align: right;\n",
              "    }\n",
              "</style>\n",
              "<table border=\"1\" class=\"dataframe\">\n",
              "  <thead>\n",
              "    <tr style=\"text-align: right;\">\n",
              "      <th></th>\n",
              "      <th>label</th>\n",
              "    </tr>\n",
              "  </thead>\n",
              "  <tbody>\n",
              "    <tr>\n",
              "      <th>0</th>\n",
              "      <td>1</td>\n",
              "    </tr>\n",
              "    <tr>\n",
              "      <th>1</th>\n",
              "      <td>0</td>\n",
              "    </tr>\n",
              "  </tbody>\n",
              "</table>\n",
              "</div><br><label><b>dtype:</b> object</label>"
            ]
          },
          "metadata": {},
          "execution_count": 16
        }
      ]
    },
    {
      "cell_type": "code",
      "source": [
        "data.shape"
      ],
      "metadata": {
        "colab": {
          "base_uri": "https://localhost:8080/"
        },
        "id": "pFFMczep5Nia",
        "outputId": "77e66e19-bf6c-42af-9562-fe3412156534"
      },
      "execution_count": null,
      "outputs": [
        {
          "output_type": "execute_result",
          "data": {
            "text/plain": [
              "(40365, 5)"
            ]
          },
          "metadata": {},
          "execution_count": 17
        }
      ]
    },
    {
      "cell_type": "code",
      "source": [
        "from sklearn.feature_extraction.text import CountVectorizer,TfidfVectorizer,HashingVectorizer"
      ],
      "metadata": {
        "id": "MOxch-eg5SVy"
      },
      "execution_count": null,
      "outputs": []
    },
    {
      "cell_type": "code",
      "source": [
        "df=data.dropna()"
      ],
      "metadata": {
        "id": "Uy_Tknmj5aJ6"
      },
      "execution_count": null,
      "outputs": []
    },
    {
      "cell_type": "code",
      "source": [
        "df.shape"
      ],
      "metadata": {
        "colab": {
          "base_uri": "https://localhost:8080/"
        },
        "id": "peoykrbS5dey",
        "outputId": "7bae182f-3b1b-4923-9516-ee4f949032df"
      },
      "execution_count": null,
      "outputs": [
        {
          "output_type": "execute_result",
          "data": {
            "text/plain": [
              "(35298, 5)"
            ]
          },
          "metadata": {},
          "execution_count": 20
        }
      ]
    },
    {
      "cell_type": "code",
      "source": [
        "message=df.copy()"
      ],
      "metadata": {
        "id": "4AMbdXCCPCpl"
      },
      "execution_count": null,
      "outputs": []
    },
    {
      "cell_type": "code",
      "source": [
        "message.reset_index(inplace=True)"
      ],
      "metadata": {
        "id": "WY1BBoE_PI3c"
      },
      "execution_count": null,
      "outputs": []
    },
    {
      "cell_type": "code",
      "source": [
        "from nltk.corpus import stopwords\n",
        "from nltk.stem.porter import PorterStemmer\n",
        "import re\n",
        "ps=PorterStemmer()\n",
        "corpus=[]\n",
        "\n",
        "import nltk\n",
        "nltk.download('stopwords')\n",
        "\n",
        "for i in range(0, len(message)):\n",
        "  review=re.sub('[^a-zA-Z]', ' ', message['title'][i])\n",
        "  review=review.lower()\n",
        "  review=review.split()\n",
        "\n",
        "  review=[ps.stem(word) for word in review if not word in stopwords.words('english')]\n",
        "  review=' '.join(review)\n",
        "  corpus.append(review)"
      ],
      "metadata": {
        "colab": {
          "base_uri": "https://localhost:8080/"
        },
        "id": "mMOFvZv5Pbyt",
        "outputId": "33e7ca9e-244f-47d2-b5e5-89d190496f21"
      },
      "execution_count": null,
      "outputs": [
        {
          "output_type": "stream",
          "name": "stderr",
          "text": [
            "[nltk_data] Downloading package stopwords to /root/nltk_data...\n",
            "[nltk_data]   Unzipping corpora/stopwords.zip.\n"
          ]
        }
      ]
    },
    {
      "cell_type": "code",
      "source": [
        "from sklearn.feature_extraction.text import CountVectorizer\n",
        "cv=CountVectorizer(max_features=5000, ngram_range=(1,3))\n",
        "x=cv.fit_transform(corpus).toarray()\n"
      ],
      "metadata": {
        "id": "NIKDTCqdP-md"
      },
      "execution_count": null,
      "outputs": []
    },
    {
      "cell_type": "code",
      "source": [
        "x.shape"
      ],
      "metadata": {
        "colab": {
          "base_uri": "https://localhost:8080/"
        },
        "id": "qu8-JaguQ1N8",
        "outputId": "6070b9d8-93a9-4060-8ca9-e7417f8b7f6c"
      },
      "execution_count": null,
      "outputs": [
        {
          "output_type": "execute_result",
          "data": {
            "text/plain": [
              "(35298, 5000)"
            ]
          },
          "metadata": {},
          "execution_count": 27
        }
      ]
    },
    {
      "cell_type": "code",
      "source": [
        "y=message['label']"
      ],
      "metadata": {
        "id": "-uw7TkQJQ540"
      },
      "execution_count": null,
      "outputs": []
    },
    {
      "cell_type": "code",
      "source": [
        "y"
      ],
      "metadata": {
        "colab": {
          "base_uri": "https://localhost:8080/",
          "height": 458
        },
        "id": "_BVTRX8kQ_ps",
        "outputId": "b774baa0-af72-415b-ba65-cfb184597d98"
      },
      "execution_count": null,
      "outputs": [
        {
          "output_type": "execute_result",
          "data": {
            "text/plain": [
              "0        1\n",
              "1        0\n",
              "2        1\n",
              "3        1\n",
              "4        1\n",
              "        ..\n",
              "35293    0\n",
              "35294    0\n",
              "35295    0\n",
              "35296    1\n",
              "35297    1\n",
              "Name: label, Length: 35298, dtype: object"
            ],
            "text/html": [
              "<div>\n",
              "<style scoped>\n",
              "    .dataframe tbody tr th:only-of-type {\n",
              "        vertical-align: middle;\n",
              "    }\n",
              "\n",
              "    .dataframe tbody tr th {\n",
              "        vertical-align: top;\n",
              "    }\n",
              "\n",
              "    .dataframe thead th {\n",
              "        text-align: right;\n",
              "    }\n",
              "</style>\n",
              "<table border=\"1\" class=\"dataframe\">\n",
              "  <thead>\n",
              "    <tr style=\"text-align: right;\">\n",
              "      <th></th>\n",
              "      <th>label</th>\n",
              "    </tr>\n",
              "  </thead>\n",
              "  <tbody>\n",
              "    <tr>\n",
              "      <th>0</th>\n",
              "      <td>1</td>\n",
              "    </tr>\n",
              "    <tr>\n",
              "      <th>1</th>\n",
              "      <td>0</td>\n",
              "    </tr>\n",
              "    <tr>\n",
              "      <th>2</th>\n",
              "      <td>1</td>\n",
              "    </tr>\n",
              "    <tr>\n",
              "      <th>3</th>\n",
              "      <td>1</td>\n",
              "    </tr>\n",
              "    <tr>\n",
              "      <th>4</th>\n",
              "      <td>1</td>\n",
              "    </tr>\n",
              "    <tr>\n",
              "      <th>...</th>\n",
              "      <td>...</td>\n",
              "    </tr>\n",
              "    <tr>\n",
              "      <th>35293</th>\n",
              "      <td>0</td>\n",
              "    </tr>\n",
              "    <tr>\n",
              "      <th>35294</th>\n",
              "      <td>0</td>\n",
              "    </tr>\n",
              "    <tr>\n",
              "      <th>35295</th>\n",
              "      <td>0</td>\n",
              "    </tr>\n",
              "    <tr>\n",
              "      <th>35296</th>\n",
              "      <td>1</td>\n",
              "    </tr>\n",
              "    <tr>\n",
              "      <th>35297</th>\n",
              "      <td>1</td>\n",
              "    </tr>\n",
              "  </tbody>\n",
              "</table>\n",
              "<p>35298 rows × 1 columns</p>\n",
              "</div><br><label><b>dtype:</b> object</label>"
            ]
          },
          "metadata": {},
          "execution_count": 30
        }
      ]
    },
    {
      "cell_type": "code",
      "source": [
        "from sklearn.model_selection import train_test_split\n",
        "x_train, x_test, y_train, y_test=train_test_split(x, y, test_size=0.33, random_state=0)"
      ],
      "metadata": {
        "id": "SuyHW-OcRCLE"
      },
      "execution_count": null,
      "outputs": []
    },
    {
      "cell_type": "code",
      "source": [
        "cv.get_feature_names_out()[:20]\n"
      ],
      "metadata": {
        "colab": {
          "base_uri": "https://localhost:8080/"
        },
        "id": "X1xG6dkRRIHM",
        "outputId": "d8d67f99-b690-4b48-a2c6-df06acac29c8"
      },
      "execution_count": null,
      "outputs": [
        {
          "output_type": "execute_result",
          "data": {
            "text/plain": [
              "array(['abandon', 'abc', 'abc news', 'abduct', 'abe', 'abedin', 'abl',\n",
              "       'abort', 'abroad', 'absolut', 'abstain', 'absurd', 'abus',\n",
              "       'abus new', 'abus new york', 'academi', 'accept', 'access',\n",
              "       'access pipelin', 'access pipelin protest'], dtype=object)"
            ]
          },
          "metadata": {},
          "execution_count": 33
        }
      ]
    },
    {
      "cell_type": "code",
      "source": [
        "cv.get_params()"
      ],
      "metadata": {
        "colab": {
          "base_uri": "https://localhost:8080/"
        },
        "id": "eEVQ11abRN3j",
        "outputId": "e687f142-ca42-47d7-8d71-111366e47c52"
      },
      "execution_count": null,
      "outputs": [
        {
          "output_type": "execute_result",
          "data": {
            "text/plain": [
              "{'analyzer': 'word',\n",
              " 'binary': False,\n",
              " 'decode_error': 'strict',\n",
              " 'dtype': numpy.int64,\n",
              " 'encoding': 'utf-8',\n",
              " 'input': 'content',\n",
              " 'lowercase': True,\n",
              " 'max_df': 1.0,\n",
              " 'max_features': 5000,\n",
              " 'min_df': 1,\n",
              " 'ngram_range': (1, 3),\n",
              " 'preprocessor': None,\n",
              " 'stop_words': None,\n",
              " 'strip_accents': None,\n",
              " 'token_pattern': '(?u)\\\\b\\\\w\\\\w+\\\\b',\n",
              " 'tokenizer': None,\n",
              " 'vocabulary': None}"
            ]
          },
          "metadata": {},
          "execution_count": 34
        }
      ]
    },
    {
      "cell_type": "code",
      "source": [
        "count_df=pd.DataFrame(x_train, columns=cv.get_feature_names_out())"
      ],
      "metadata": {
        "id": "0mKKkQD5RhzS"
      },
      "execution_count": null,
      "outputs": []
    },
    {
      "cell_type": "code",
      "source": [
        "count_df.head(3)"
      ],
      "metadata": {
        "colab": {
          "base_uri": "https://localhost:8080/",
          "height": 228
        },
        "id": "ghWgtyapRw1L",
        "outputId": "8afd8a42-d2b7-4603-d4d0-57684c95e997"
      },
      "execution_count": null,
      "outputs": [
        {
          "output_type": "execute_result",
          "data": {
            "text/plain": [
              "   abandon  abc  abc news  abduct  abe  abedin  abl  abort  abroad  absolut  \\\n",
              "0        0    0         0       0    0       0    0      0       0        0   \n",
              "1        0    0         0       0    0       0    0      0       0        0   \n",
              "2        0    0         0       0    0       0    0      0       0        0   \n",
              "\n",
              "   ...  zealand  zero  zika  zika viru  zionist  zone  zone new  \\\n",
              "0  ...        0     0     0          0        0     0         0   \n",
              "1  ...        0     0     0          0        0     0         0   \n",
              "2  ...        0     0     0          0        0     0         0   \n",
              "\n",
              "   zone new york  zu  zuckerberg  \n",
              "0              0   0           0  \n",
              "1              0   0           0  \n",
              "2              0   0           0  \n",
              "\n",
              "[3 rows x 5000 columns]"
            ],
            "text/html": [
              "\n",
              "  <div id=\"df-130e1cff-889d-45fd-8435-d14810548a47\" class=\"colab-df-container\">\n",
              "    <div>\n",
              "<style scoped>\n",
              "    .dataframe tbody tr th:only-of-type {\n",
              "        vertical-align: middle;\n",
              "    }\n",
              "\n",
              "    .dataframe tbody tr th {\n",
              "        vertical-align: top;\n",
              "    }\n",
              "\n",
              "    .dataframe thead th {\n",
              "        text-align: right;\n",
              "    }\n",
              "</style>\n",
              "<table border=\"1\" class=\"dataframe\">\n",
              "  <thead>\n",
              "    <tr style=\"text-align: right;\">\n",
              "      <th></th>\n",
              "      <th>abandon</th>\n",
              "      <th>abc</th>\n",
              "      <th>abc news</th>\n",
              "      <th>abduct</th>\n",
              "      <th>abe</th>\n",
              "      <th>abedin</th>\n",
              "      <th>abl</th>\n",
              "      <th>abort</th>\n",
              "      <th>abroad</th>\n",
              "      <th>absolut</th>\n",
              "      <th>...</th>\n",
              "      <th>zealand</th>\n",
              "      <th>zero</th>\n",
              "      <th>zika</th>\n",
              "      <th>zika viru</th>\n",
              "      <th>zionist</th>\n",
              "      <th>zone</th>\n",
              "      <th>zone new</th>\n",
              "      <th>zone new york</th>\n",
              "      <th>zu</th>\n",
              "      <th>zuckerberg</th>\n",
              "    </tr>\n",
              "  </thead>\n",
              "  <tbody>\n",
              "    <tr>\n",
              "      <th>0</th>\n",
              "      <td>0</td>\n",
              "      <td>0</td>\n",
              "      <td>0</td>\n",
              "      <td>0</td>\n",
              "      <td>0</td>\n",
              "      <td>0</td>\n",
              "      <td>0</td>\n",
              "      <td>0</td>\n",
              "      <td>0</td>\n",
              "      <td>0</td>\n",
              "      <td>...</td>\n",
              "      <td>0</td>\n",
              "      <td>0</td>\n",
              "      <td>0</td>\n",
              "      <td>0</td>\n",
              "      <td>0</td>\n",
              "      <td>0</td>\n",
              "      <td>0</td>\n",
              "      <td>0</td>\n",
              "      <td>0</td>\n",
              "      <td>0</td>\n",
              "    </tr>\n",
              "    <tr>\n",
              "      <th>1</th>\n",
              "      <td>0</td>\n",
              "      <td>0</td>\n",
              "      <td>0</td>\n",
              "      <td>0</td>\n",
              "      <td>0</td>\n",
              "      <td>0</td>\n",
              "      <td>0</td>\n",
              "      <td>0</td>\n",
              "      <td>0</td>\n",
              "      <td>0</td>\n",
              "      <td>...</td>\n",
              "      <td>0</td>\n",
              "      <td>0</td>\n",
              "      <td>0</td>\n",
              "      <td>0</td>\n",
              "      <td>0</td>\n",
              "      <td>0</td>\n",
              "      <td>0</td>\n",
              "      <td>0</td>\n",
              "      <td>0</td>\n",
              "      <td>0</td>\n",
              "    </tr>\n",
              "    <tr>\n",
              "      <th>2</th>\n",
              "      <td>0</td>\n",
              "      <td>0</td>\n",
              "      <td>0</td>\n",
              "      <td>0</td>\n",
              "      <td>0</td>\n",
              "      <td>0</td>\n",
              "      <td>0</td>\n",
              "      <td>0</td>\n",
              "      <td>0</td>\n",
              "      <td>0</td>\n",
              "      <td>...</td>\n",
              "      <td>0</td>\n",
              "      <td>0</td>\n",
              "      <td>0</td>\n",
              "      <td>0</td>\n",
              "      <td>0</td>\n",
              "      <td>0</td>\n",
              "      <td>0</td>\n",
              "      <td>0</td>\n",
              "      <td>0</td>\n",
              "      <td>0</td>\n",
              "    </tr>\n",
              "  </tbody>\n",
              "</table>\n",
              "<p>3 rows × 5000 columns</p>\n",
              "</div>\n",
              "    <div class=\"colab-df-buttons\">\n",
              "\n",
              "  <div class=\"colab-df-container\">\n",
              "    <button class=\"colab-df-convert\" onclick=\"convertToInteractive('df-130e1cff-889d-45fd-8435-d14810548a47')\"\n",
              "            title=\"Convert this dataframe to an interactive table.\"\n",
              "            style=\"display:none;\">\n",
              "\n",
              "  <svg xmlns=\"http://www.w3.org/2000/svg\" height=\"24px\" viewBox=\"0 -960 960 960\">\n",
              "    <path d=\"M120-120v-720h720v720H120Zm60-500h600v-160H180v160Zm220 220h160v-160H400v160Zm0 220h160v-160H400v160ZM180-400h160v-160H180v160Zm440 0h160v-160H620v160ZM180-180h160v-160H180v160Zm440 0h160v-160H620v160Z\"/>\n",
              "  </svg>\n",
              "    </button>\n",
              "\n",
              "  <style>\n",
              "    .colab-df-container {\n",
              "      display:flex;\n",
              "      gap: 12px;\n",
              "    }\n",
              "\n",
              "    .colab-df-convert {\n",
              "      background-color: #E8F0FE;\n",
              "      border: none;\n",
              "      border-radius: 50%;\n",
              "      cursor: pointer;\n",
              "      display: none;\n",
              "      fill: #1967D2;\n",
              "      height: 32px;\n",
              "      padding: 0 0 0 0;\n",
              "      width: 32px;\n",
              "    }\n",
              "\n",
              "    .colab-df-convert:hover {\n",
              "      background-color: #E2EBFA;\n",
              "      box-shadow: 0px 1px 2px rgba(60, 64, 67, 0.3), 0px 1px 3px 1px rgba(60, 64, 67, 0.15);\n",
              "      fill: #174EA6;\n",
              "    }\n",
              "\n",
              "    .colab-df-buttons div {\n",
              "      margin-bottom: 4px;\n",
              "    }\n",
              "\n",
              "    [theme=dark] .colab-df-convert {\n",
              "      background-color: #3B4455;\n",
              "      fill: #D2E3FC;\n",
              "    }\n",
              "\n",
              "    [theme=dark] .colab-df-convert:hover {\n",
              "      background-color: #434B5C;\n",
              "      box-shadow: 0px 1px 3px 1px rgba(0, 0, 0, 0.15);\n",
              "      filter: drop-shadow(0px 1px 2px rgba(0, 0, 0, 0.3));\n",
              "      fill: #FFFFFF;\n",
              "    }\n",
              "  </style>\n",
              "\n",
              "    <script>\n",
              "      const buttonEl =\n",
              "        document.querySelector('#df-130e1cff-889d-45fd-8435-d14810548a47 button.colab-df-convert');\n",
              "      buttonEl.style.display =\n",
              "        google.colab.kernel.accessAllowed ? 'block' : 'none';\n",
              "\n",
              "      async function convertToInteractive(key) {\n",
              "        const element = document.querySelector('#df-130e1cff-889d-45fd-8435-d14810548a47');\n",
              "        const dataTable =\n",
              "          await google.colab.kernel.invokeFunction('convertToInteractive',\n",
              "                                                    [key], {});\n",
              "        if (!dataTable) return;\n",
              "\n",
              "        const docLinkHtml = 'Like what you see? Visit the ' +\n",
              "          '<a target=\"_blank\" href=https://colab.research.google.com/notebooks/data_table.ipynb>data table notebook</a>'\n",
              "          + ' to learn more about interactive tables.';\n",
              "        element.innerHTML = '';\n",
              "        dataTable['output_type'] = 'display_data';\n",
              "        await google.colab.output.renderOutput(dataTable, element);\n",
              "        const docLink = document.createElement('div');\n",
              "        docLink.innerHTML = docLinkHtml;\n",
              "        element.appendChild(docLink);\n",
              "      }\n",
              "    </script>\n",
              "  </div>\n",
              "\n",
              "\n",
              "<div id=\"df-723e161d-74c0-4572-8809-810ddb2e6d37\">\n",
              "  <button class=\"colab-df-quickchart\" onclick=\"quickchart('df-723e161d-74c0-4572-8809-810ddb2e6d37')\"\n",
              "            title=\"Suggest charts\"\n",
              "            style=\"display:none;\">\n",
              "\n",
              "<svg xmlns=\"http://www.w3.org/2000/svg\" height=\"24px\"viewBox=\"0 0 24 24\"\n",
              "     width=\"24px\">\n",
              "    <g>\n",
              "        <path d=\"M19 3H5c-1.1 0-2 .9-2 2v14c0 1.1.9 2 2 2h14c1.1 0 2-.9 2-2V5c0-1.1-.9-2-2-2zM9 17H7v-7h2v7zm4 0h-2V7h2v10zm4 0h-2v-4h2v4z\"/>\n",
              "    </g>\n",
              "</svg>\n",
              "  </button>\n",
              "\n",
              "<style>\n",
              "  .colab-df-quickchart {\n",
              "      --bg-color: #E8F0FE;\n",
              "      --fill-color: #1967D2;\n",
              "      --hover-bg-color: #E2EBFA;\n",
              "      --hover-fill-color: #174EA6;\n",
              "      --disabled-fill-color: #AAA;\n",
              "      --disabled-bg-color: #DDD;\n",
              "  }\n",
              "\n",
              "  [theme=dark] .colab-df-quickchart {\n",
              "      --bg-color: #3B4455;\n",
              "      --fill-color: #D2E3FC;\n",
              "      --hover-bg-color: #434B5C;\n",
              "      --hover-fill-color: #FFFFFF;\n",
              "      --disabled-bg-color: #3B4455;\n",
              "      --disabled-fill-color: #666;\n",
              "  }\n",
              "\n",
              "  .colab-df-quickchart {\n",
              "    background-color: var(--bg-color);\n",
              "    border: none;\n",
              "    border-radius: 50%;\n",
              "    cursor: pointer;\n",
              "    display: none;\n",
              "    fill: var(--fill-color);\n",
              "    height: 32px;\n",
              "    padding: 0;\n",
              "    width: 32px;\n",
              "  }\n",
              "\n",
              "  .colab-df-quickchart:hover {\n",
              "    background-color: var(--hover-bg-color);\n",
              "    box-shadow: 0 1px 2px rgba(60, 64, 67, 0.3), 0 1px 3px 1px rgba(60, 64, 67, 0.15);\n",
              "    fill: var(--button-hover-fill-color);\n",
              "  }\n",
              "\n",
              "  .colab-df-quickchart-complete:disabled,\n",
              "  .colab-df-quickchart-complete:disabled:hover {\n",
              "    background-color: var(--disabled-bg-color);\n",
              "    fill: var(--disabled-fill-color);\n",
              "    box-shadow: none;\n",
              "  }\n",
              "\n",
              "  .colab-df-spinner {\n",
              "    border: 2px solid var(--fill-color);\n",
              "    border-color: transparent;\n",
              "    border-bottom-color: var(--fill-color);\n",
              "    animation:\n",
              "      spin 1s steps(1) infinite;\n",
              "  }\n",
              "\n",
              "  @keyframes spin {\n",
              "    0% {\n",
              "      border-color: transparent;\n",
              "      border-bottom-color: var(--fill-color);\n",
              "      border-left-color: var(--fill-color);\n",
              "    }\n",
              "    20% {\n",
              "      border-color: transparent;\n",
              "      border-left-color: var(--fill-color);\n",
              "      border-top-color: var(--fill-color);\n",
              "    }\n",
              "    30% {\n",
              "      border-color: transparent;\n",
              "      border-left-color: var(--fill-color);\n",
              "      border-top-color: var(--fill-color);\n",
              "      border-right-color: var(--fill-color);\n",
              "    }\n",
              "    40% {\n",
              "      border-color: transparent;\n",
              "      border-right-color: var(--fill-color);\n",
              "      border-top-color: var(--fill-color);\n",
              "    }\n",
              "    60% {\n",
              "      border-color: transparent;\n",
              "      border-right-color: var(--fill-color);\n",
              "    }\n",
              "    80% {\n",
              "      border-color: transparent;\n",
              "      border-right-color: var(--fill-color);\n",
              "      border-bottom-color: var(--fill-color);\n",
              "    }\n",
              "    90% {\n",
              "      border-color: transparent;\n",
              "      border-bottom-color: var(--fill-color);\n",
              "    }\n",
              "  }\n",
              "</style>\n",
              "\n",
              "  <script>\n",
              "    async function quickchart(key) {\n",
              "      const quickchartButtonEl =\n",
              "        document.querySelector('#' + key + ' button');\n",
              "      quickchartButtonEl.disabled = true;  // To prevent multiple clicks.\n",
              "      quickchartButtonEl.classList.add('colab-df-spinner');\n",
              "      try {\n",
              "        const charts = await google.colab.kernel.invokeFunction(\n",
              "            'suggestCharts', [key], {});\n",
              "      } catch (error) {\n",
              "        console.error('Error during call to suggestCharts:', error);\n",
              "      }\n",
              "      quickchartButtonEl.classList.remove('colab-df-spinner');\n",
              "      quickchartButtonEl.classList.add('colab-df-quickchart-complete');\n",
              "    }\n",
              "    (() => {\n",
              "      let quickchartButtonEl =\n",
              "        document.querySelector('#df-723e161d-74c0-4572-8809-810ddb2e6d37 button');\n",
              "      quickchartButtonEl.style.display =\n",
              "        google.colab.kernel.accessAllowed ? 'block' : 'none';\n",
              "    })();\n",
              "  </script>\n",
              "</div>\n",
              "\n",
              "    </div>\n",
              "  </div>\n"
            ],
            "application/vnd.google.colaboratory.intrinsic+json": {
              "type": "dataframe",
              "variable_name": "count_df"
            }
          },
          "metadata": {},
          "execution_count": 36
        }
      ]
    },
    {
      "cell_type": "code",
      "source": [
        "import matplotlib.pyplot as plt"
      ],
      "metadata": {
        "id": "fdaYAHhpRzVD"
      },
      "execution_count": null,
      "outputs": []
    },
    {
      "cell_type": "code",
      "source": [
        "\"\"\"def plot_confusion_matrix(cm, classes,\n",
        "                          normalize=False,\n",
        "                          title='Confusion matrix',\n",
        "                          cmap=plt.cm.Blues):\n",
        "\n",
        "\n",
        "\n",
        "  plt.imshow(cm, interpolation='nearest', cmap=cmap)\n",
        "  plt.title(title)\n",
        "  plt.colorbar()\n",
        "  tick_marks = np.arange(len(classes))\n",
        "  plt.xticks(tick_marks, classes, rotation=45)\n",
        "  plt.yticks(tick_marks, classes)\n",
        "\n",
        "  if normalize:\n",
        "    cm = cm.astype('float') / cm.sum(axis=1)[:, np.newaxis]\n",
        "    print(\"Normalized confusion matrix\")\n",
        "  else:\n",
        "    print('Confusion matrix, without normalization')\n",
        "\n",
        "  thresh=cm.max()/2.\n",
        "  for i, j in itertools.product(range(cm.shape[0]), range(cm.shape[1])):\n",
        "    plt.text(j, i, cm[i, j],\n",
        "             horizontalalignment=\"center\",\n",
        "             color=\"white\" if cm[i, j] > thresh else \"black\")\n",
        "\n",
        "  plt.tight_layout()\n",
        "  plt.ylabel('True label')\n",
        "  plt.xlabel('Predicted label')\"\"\""
      ],
      "metadata": {
        "id": "0gNthAaWSGgC"
      },
      "execution_count": null,
      "outputs": []
    },
    {
      "cell_type": "code",
      "source": [
        "def plot_confusion_matrix(cm, classes,\n",
        "                          normalize=False,\n",
        "                          title='Confusion matrix',\n",
        "                          cmap=plt.cm.Blues):\n",
        "    \"\"\"\n",
        "    See full source and example:\n",
        "    http://scikit-learn.org/stable/auto_examples/model_selection/plot_confusion_matrix.html\n",
        "\n",
        "    This function prints and plots the confusion matrix.\n",
        "    Normalization can be applied by setting `normalize=True`.\n",
        "    \"\"\"\n",
        "    plt.imshow(cm, interpolation='nearest', cmap=cmap)\n",
        "    plt.title(title)\n",
        "    plt.colorbar()\n",
        "    tick_marks = np.arange(len(classes))\n",
        "    plt.xticks(tick_marks, classes, rotation=45)\n",
        "    plt.yticks(tick_marks, classes)\n",
        "\n",
        "    if normalize:\n",
        "        cm = cm.astype('float') / cm.sum(axis=1)[:, np.newaxis]\n",
        "        print(\"Normalized confusion matrix\")\n",
        "    else:\n",
        "        print('Confusion matrix, without normalization')\n",
        "\n",
        "    thresh = cm.max() / 2.\n",
        "    for i, j in itertools.product(range(cm.shape[0]), range(cm.shape[1])):\n",
        "        plt.text(j, i, cm[i, j],\n",
        "                 horizontalalignment=\"center\",\n",
        "                 color=\"white\" if cm[i, j] > thresh else \"black\")\n",
        "\n",
        "    plt.tight_layout()\n",
        "    plt.ylabel('True label')\n",
        "    plt.xlabel('Predicted label')"
      ],
      "metadata": {
        "id": "Pp60bo3gXq6S"
      },
      "execution_count": null,
      "outputs": []
    },
    {
      "cell_type": "code",
      "source": [
        "## ALGO uSED Multinimial NB"
      ],
      "metadata": {
        "id": "wgtOGM5CTYZj"
      },
      "execution_count": null,
      "outputs": []
    },
    {
      "cell_type": "code",
      "source": [
        "from sklearn.naive_bayes import MultinomialNB\n",
        "classifier=MultinomialNB()"
      ],
      "metadata": {
        "id": "1cZDkg4sThcy"
      },
      "execution_count": null,
      "outputs": []
    },
    {
      "cell_type": "code",
      "source": [
        "from sklearn import metrics\n",
        "import numpy as np\n",
        "import itertools"
      ],
      "metadata": {
        "id": "FfYOLEJSTjr6"
      },
      "execution_count": null,
      "outputs": []
    },
    {
      "cell_type": "code",
      "source": [
        "classifier.fit(x_train, y_train)\n",
        "pred=classifier.predict(x_test)\n",
        "score=metrics.accuracy_score(y_test, pred)\n",
        "print(\"accuracy: %0.3f\" % score)\n",
        "cm=metrics.confusion_matrix(y_test, pred)\n",
        "plot_confusion_matrix(cm, classes=['FAKE', 'REAL'])"
      ],
      "metadata": {
        "colab": {
          "base_uri": "https://localhost:8080/",
          "height": 541
        },
        "id": "YyW7PIZCTm06",
        "outputId": "19d47b18-067e-41c2-a3a7-77f98df85962"
      },
      "execution_count": null,
      "outputs": [
        {
          "output_type": "stream",
          "name": "stdout",
          "text": [
            "accuracy: 0.906\n",
            "Confusion matrix, without normalization\n"
          ]
        },
        {
          "output_type": "display_data",
          "data": {
            "text/plain": [
              "<Figure size 640x480 with 2 Axes>"
            ],
            "image/png": "[encoded data removed]"
          },
          "metadata": {}
        }
      ]
    },
    {
      "cell_type": "code",
      "source": [
        "##"
      ],
      "metadata": {
        "id": "kcVixSuTTvwB"
      },
      "execution_count": null,
      "outputs": []
    },
    {
      "cell_type": "markdown",
      "source": [
        "# Passive Aggressive Classifer Algorithm"
      ],
      "metadata": {
        "id": "XbvizD57U4f_"
      }
    },
    {
      "cell_type": "code",
      "source": [
        "from sklearn.linear_model import PassiveAggressiveClassifier\n",
        "linear_clf=PassiveAggressiveClassifier(max_iter=50)"
      ],
      "metadata": {
        "id": "OtELdvUpU-Np"
      },
      "execution_count": null,
      "outputs": []
    },
    {
      "cell_type": "code",
      "source": [
        "linear_clf.fit(x_train, y_train)\n",
        "pred=linear_clf.predict(x_test)\n",
        "score=metrics.accuracy_score(y_test, pred)\n",
        "print(\"accuracy: %0.3f\" % score)\n",
        "\n",
        "cm=metrics.confusion_matrix(y_test, pred)\n",
        "plot_confusion_matrix(cm, classes=['FAKE', 'REAL'])"
      ],
      "metadata": {
        "colab": {
          "base_uri": "https://localhost:8080/",
          "height": 541
        },
        "id": "4qO0ZyOFVDpR",
        "outputId": "772460bf-2dd9-4dda-cfca-b3c3c5457a80"
      },
      "execution_count": null,
      "outputs": [
        {
          "output_type": "stream",
          "name": "stdout",
          "text": [
            "accuracy: 0.965\n",
            "Confusion matrix, without normalization\n"
          ]
        },
        {
          "output_type": "display_data",
          "data": {
            "text/plain": [
              "<Figure size 640x480 with 2 Axes>"
            ],
            "image/png": "[encoded data removed]"
          },
          "metadata": {}
        }
      ]
    },
    {
      "cell_type": "code",
      "source": [
        "classifier=MultinomialNB(alpha=0.1)"
      ],
      "metadata": {
        "id": "zyPr7nH9VOgY"
      },
      "execution_count": null,
      "outputs": []
    },
    {
      "cell_type": "code",
      "source": [
        "previous_score=0\n",
        "for alpha in np.arange(0,1,0.1):\n",
        "  sub_classifier=MultinomialNB(alpha=alpha)\n",
        "  sub_classifier.fit(x_train, y_train)\n",
        "  y_pred=sub_classifier.predict(x_test)\n",
        "  score=metrics.accuracy_score(y_test, y_pred)\n",
        "  if score>previous_score:\n",
        "    classifier=sub_classifier\n",
        "  print(\"Alpha: {}, Score: {}\".format(alpha, score))"
      ],
      "metadata": {
        "colab": {
          "base_uri": "https://localhost:8080/"
        },
        "id": "IuVT90XMVfVY",
        "outputId": "a6007d82-37f1-4ac5-ff1d-98ef4d7e8751"
      },
      "execution_count": null,
      "outputs": [
        {
          "output_type": "stream",
          "name": "stderr",
          "text": [
            "/usr/local/lib/python3.11/dist-packages/sklearn/naive_bayes.py:898: RuntimeWarning: divide by zero encountered in log\n",
            "  self.feature_log_prob_ = np.log(smoothed_fc) - np.log(\n",
            "/usr/local/lib/python3.11/dist-packages/sklearn/naive_bayes.py:898: RuntimeWarning: invalid value encountered in subtract\n",
            "  self.feature_log_prob_ = np.log(smoothed_fc) - np.log(\n",
            "/usr/local/lib/python3.11/dist-packages/sklearn/utils/extmath.py:203: RuntimeWarning: invalid value encountered in matmul\n",
            "  ret = a @ b\n"
          ]
        },
        {
          "output_type": "stream",
          "name": "stdout",
          "text": [
            "Alpha: 0.0, Score: 8.584427847883938e-05\n",
            "Alpha: 0.1, Score: 0.9095201304833033\n",
            "Alpha: 0.2, Score: 0.9088333762554726\n",
            "Alpha: 0.30000000000000004, Score: 0.9082324663061206\n",
            "Alpha: 0.4, Score: 0.9078890891922053\n",
            "Alpha: 0.5, Score: 0.9069448021289381\n",
            "Alpha: 0.6000000000000001, Score: 0.9063438921795862\n",
            "Alpha: 0.7000000000000001, Score: 0.9061722036226285\n",
            "Alpha: 0.8, Score: 0.9062580479011074\n",
            "Alpha: 0.9, Score: 0.905914670787192\n"
          ]
        }
      ]
    },
    {
      "cell_type": "code",
      "source": [
        "# Assuming your model is fitted\n",
        "classifier.feature_log_prob_[0]  # log probabilities for class 0\n"
      ],
      "metadata": {
        "colab": {
          "base_uri": "https://localhost:8080/"
        },
        "id": "aSPDptnNV1vA",
        "outputId": "2dd3c1dd-1659-4c93-865c-468f0db30bb8"
      },
      "execution_count": null,
      "outputs": [
        {
          "output_type": "execute_result",
          "data": {
            "text/plain": [
              "array([-8.51808169, -8.51808169, -8.51808169, ..., -8.51808169,\n",
              "       -8.51808169, -8.51808169])"
            ]
          },
          "metadata": {},
          "execution_count": 62
        }
      ]
    },
    {
      "cell_type": "code",
      "source": [
        "#### Most real\n",
        "\n",
        "sorted(zip(classifier.feature_log_prob_[0], cv.get_feature_names_out()), reverse=True)[:20]"
      ],
      "metadata": {
        "colab": {
          "base_uri": "https://localhost:8080/"
        },
        "id": "6XGmMeyDWxVn",
        "outputId": "e2d3da1e-44be-4420-ac6f-f67840f38478"
      },
      "execution_count": null,
      "outputs": [
        {
          "output_type": "execute_result",
          "data": {
            "text/plain": [
              "[(np.float64(-7.770867283647132), 'sinc'),\n",
              " (np.float64(-7.770867283647132), 'report'),\n",
              " (np.float64(-7.770867283647132), 'point'),\n",
              " (np.float64(-7.770867283647132), 'day'),\n",
              " (np.float64(-8.518081685477354), 'zuckerberg'),\n",
              " (np.float64(-8.518081685477354), 'zu'),\n",
              " (np.float64(-8.518081685477354), 'zone new york'),\n",
              " (np.float64(-8.518081685477354), 'zone new'),\n",
              " (np.float64(-8.518081685477354), 'zone'),\n",
              " (np.float64(-8.518081685477354), 'zionist'),\n",
              " (np.float64(-8.518081685477354), 'zika viru'),\n",
              " (np.float64(-8.518081685477354), 'zika'),\n",
              " (np.float64(-8.518081685477354), 'zero'),\n",
              " (np.float64(-8.518081685477354), 'zealand'),\n",
              " (np.float64(-8.518081685477354), 'youtub'),\n",
              " (np.float64(-8.518081685477354), 'youth'),\n",
              " (np.float64(-8.518081685477354), 'young'),\n",
              " (np.float64(-8.518081685477354), 'yorker'),\n",
              " (np.float64(-8.518081685477354), 'york time'),\n",
              " (np.float64(-8.518081685477354), 'york state')]"
            ]
          },
          "metadata": {},
          "execution_count": 63
        }
      ]
    },
    {
      "cell_type": "code",
      "source": [
        "### Most Fake\n",
        "sorted(zip(classifier.feature_log_prob_[0], cv.get_feature_names_out()))[:20]"
      ],
      "metadata": {
        "colab": {
          "base_uri": "https://localhost:8080/"
        },
        "id": "KEf8Fth3XDU_",
        "outputId": "238e2a4a-7af5-4f3c-eb0a-22bc02c1b799"
      },
      "execution_count": null,
      "outputs": [
        {
          "output_type": "execute_result",
          "data": {
            "text/plain": [
              "[(np.float64(-8.518081685477354), 'abandon'),\n",
              " (np.float64(-8.518081685477354), 'abc'),\n",
              " (np.float64(-8.518081685477354), 'abc news'),\n",
              " (np.float64(-8.518081685477354), 'abduct'),\n",
              " (np.float64(-8.518081685477354), 'abe'),\n",
              " (np.float64(-8.518081685477354), 'abedin'),\n",
              " (np.float64(-8.518081685477354), 'abl'),\n",
              " (np.float64(-8.518081685477354), 'abort'),\n",
              " (np.float64(-8.518081685477354), 'abroad'),\n",
              " (np.float64(-8.518081685477354), 'absolut'),\n",
              " (np.float64(-8.518081685477354), 'abstain'),\n",
              " (np.float64(-8.518081685477354), 'absurd'),\n",
              " (np.float64(-8.518081685477354), 'abus'),\n",
              " (np.float64(-8.518081685477354), 'abus new'),\n",
              " (np.float64(-8.518081685477354), 'abus new york'),\n",
              " (np.float64(-8.518081685477354), 'academi'),\n",
              " (np.float64(-8.518081685477354), 'accept'),\n",
              " (np.float64(-8.518081685477354), 'access'),\n",
              " (np.float64(-8.518081685477354), 'access pipelin'),\n",
              " (np.float64(-8.518081685477354), 'access pipelin protest')]"
            ]
          },
          "metadata": {},
          "execution_count": 64
        }
      ]
    },
    {
      "cell_type": "code",
      "source": [],
      "metadata": {
        "id": "LEaE2cpFXSqH"
      },
      "execution_count": null,
      "outputs": []
    }
  ]
}